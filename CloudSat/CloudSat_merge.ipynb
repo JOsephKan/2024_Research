{
 "cells": [
  {
   "cell_type": "markdown",
   "metadata": {},
   "source": [
    "# CloudSat merged"
   ]
  },
  {
   "cell_type": "markdown",
   "metadata": {},
   "source": [
    "## Import package"
   ]
  },
  {
   "cell_type": "code",
   "execution_count": 4,
   "metadata": {},
   "outputs": [],
   "source": [
    "import glob\n",
    "import numpy as np\n",
    "import joblib as jl\n",
    "import netCDF4 as nc"
   ]
  },
  {
   "cell_type": "markdown",
   "metadata": {},
   "source": [
    "## Load data"
   ]
  },
  {
   "cell_type": "code",
   "execution_count": 7,
   "metadata": {},
   "outputs": [
    {
     "name": "stdout",
     "output_type": "stream",
     "text": [
      "qlw shape: (1205, 60, 160, 18)\n"
     ]
    }
   ],
   "source": [
    "# path\n",
    "path: str = \"/work/b11209013/2024_Research/CloudSat/CloudSat_itp/\"\n",
    "\n",
    "files: list[str] = glob.glob(path + \"*.joblib\")\n",
    "\n",
    "# load dimension\n",
    "dims: dict[str, np.ndarray] = dict(\n",
    "    lat = jl.load(files[0])[\"lat\"],\n",
    "    lon = jl.load(files[0])[\"lon\"],\n",
    "    lev = jl.load(files[0])[\"lev\"]\n",
    ")\n",
    "\n",
    "# load data\n",
    "data: dict[str, np.ndarray] = dict(\n",
    "    qlw = [],\n",
    "    qsw = [],\n",
    ")\n",
    "\n",
    "for f in files:\n",
    "    data[\"qlw\"].append(jl.load(f)[\"qlw\"])\n",
    "    data[\"qsw\"].append(jl.load(f)[\"qsw\"])\n",
    "    \n",
    "data[\"qlw\"] = np.array(data[\"qlw\"])\n",
    "data[\"qsw\"] = np.array(data[\"qsw\"])\n",
    "\n",
    "print(\"qlw shape:\", data[\"qlw\"].shape)"
   ]
  }
 ],
 "metadata": {
  "kernelspec": {
   "display_name": "atmosci-env",
   "language": "python",
   "name": "python3"
  },
  "language_info": {
   "codemirror_mode": {
    "name": "ipython",
    "version": 3
   },
   "file_extension": ".py",
   "mimetype": "text/x-python",
   "name": "python",
   "nbconvert_exporter": "python",
   "pygments_lexer": "ipython3",
   "version": "3.10.15"
  }
 },
 "nbformat": 4,
 "nbformat_minor": 2
}
