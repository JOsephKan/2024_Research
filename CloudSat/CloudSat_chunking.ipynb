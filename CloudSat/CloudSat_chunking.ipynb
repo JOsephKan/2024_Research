{
 "cells": [
  {
   "cell_type": "markdown",
   "id": "7af04d61-603a-4b96-afd1-bb4910236bd4",
   "metadata": {},
   "source": [
    "# chunking data into the MPAS grid"
   ]
  },
  {
   "cell_type": "markdown",
   "id": "e7c56f9b-32ad-42f4-a770-bb2faf575a83",
   "metadata": {},
   "source": [
    "## import package"
   ]
  },
  {
   "cell_type": "code",
   "execution_count": 1,
   "id": "b45ae1c9-b4ef-4504-a400-b9ceeea2257e",
   "metadata": {
    "execution": {
     "iopub.execute_input": "2024-11-22T08:35:51.452900Z",
     "iopub.status.busy": "2024-11-22T08:35:51.452740Z",
     "iopub.status.idle": "2024-11-22T08:35:51.530955Z",
     "shell.execute_reply": "2024-11-22T08:35:51.530636Z",
     "shell.execute_reply.started": "2024-11-22T08:35:51.452887Z"
    }
   },
   "outputs": [],
   "source": [
    "import numpy as np\n",
    "import joblib as jl\n",
    "from joblib import Parallel, delayed\n"
   ]
  },
  {
   "cell_type": "markdown",
   "id": "e355f5a7-628a-4fba-9702-8b3877553447",
   "metadata": {},
   "source": [
    "## Load data"
   ]
  },
  {
   "cell_type": "code",
   "execution_count": 2,
   "id": "cabdc288-2071-4a8b-bb0f-d0b71bae1479",
   "metadata": {
    "execution": {
     "iopub.execute_input": "2024-11-22T08:35:51.531631Z",
     "iopub.status.busy": "2024-11-22T08:35:51.531439Z",
     "iopub.status.idle": "2024-11-22T08:35:52.491125Z",
     "shell.execute_reply": "2024-11-22T08:35:52.490760Z",
     "shell.execute_reply.started": "2024-11-22T08:35:51.531618Z"
    }
   },
   "outputs": [],
   "source": [
    "# directory\n",
    "path: str = '/work/b11209013/2024_Research/CloudSat/'\n",
    "\n",
    "# case name\n",
    "case: int = 8\n",
    "\n",
    "# file name\n",
    "fname = f'{path}CloudSat_itp_{case:03}.joblib'\n",
    "\n",
    "# load data\n",
    "data = jl.load(fname)\n",
    "\n",
    "lon : np.ndarray[float] = data['lon']\n",
    "lat : np.ndarray[float] = data['lat']\n",
    "hgt : np.ndarray[float] = data['hgt']\n",
    "qlw : np.ndarray[float] = data['qlw']\n",
    "qsw : np.ndarray[float] = data['qsw']\n",
    "ldate, lswath, lray, lbin = qsw.shape\n",
    "\n",
    "del data"
   ]
  },
  {
   "cell_type": "markdown",
   "id": "f6e031ec-d791-40fc-b045-d53582f5bee5",
   "metadata": {},
   "source": [
    "## Chunking data"
   ]
  },
  {
   "cell_type": "code",
   "execution_count": 3,
   "id": "84f217e7-6d4a-43af-98ea-e4f1587bca3b",
   "metadata": {
    "execution": {
     "iopub.execute_input": "2024-11-22T08:35:52.491781Z",
     "iopub.status.busy": "2024-11-22T08:35:52.491643Z",
     "iopub.status.idle": "2024-11-22T08:36:17.613874Z",
     "shell.execute_reply": "2024-11-22T08:36:17.613305Z",
     "shell.execute_reply.started": "2024-11-22T08:35:52.491769Z"
    }
   },
   "outputs": [],
   "source": [
    "# Reshape data\n",
    "lon_rs: np.ndarray = lon.reshape((-1, lray))\n",
    "lat_rs: np.ndarray = lat.reshape((-1, lray))\n",
    "qlw_rs: np.ndarray = qlw.reshape((-1, lray, lbin))\n",
    "qsw_rs: np.ndarray = qsw.reshape((-1, lray, lbin))\n",
    "\n",
    "# setup chunk condition\n",
    "lon_cond: np.ndarray = np.arange(160, 260+0.1, 0.5)\n",
    "lat_cond: np.ndarray = np.arange(-15, 15+0.1, 0.5)\n",
    "\n",
    "# Pre-allocate output arrays (time, lat_bins, lon_bins, bins)\n",
    "qlw_chunk = np.full((qlw_rs.shape[0], len(lat_cond) - 1, len(lon_cond) - 1, 18), np.nan)\n",
    "qsw_chunk = np.full((qlw_rs.shape[0], len(lat_cond) - 1, len(lon_cond) - 1, 18), np.nan)\n",
    "\n",
    "# Flatten latitude and longitude arrays once\n",
    "lon_rs_flat = lon_rs.reshape(lon_rs.shape[0], -1)\n",
    "lat_rs_flat = lat_rs.reshape(lat_rs.shape[0], -1)\n",
    "\n",
    "# Precompute masks for latitude and longitude bins\n",
    "lat_masks = [\n",
    "    (lat_rs_flat >= lat_cond[la]) & (lat_rs_flat < lat_cond[la + 1])\n",
    "    for la in range(len(lat_cond) - 1)\n",
    "]\n",
    "lon_masks = [\n",
    "    (lon_rs_flat >= lon_cond[lo]) & (lon_rs_flat < lon_cond[lo + 1])\n",
    "    for lo in range(len(lon_cond) - 1)\n",
    "]\n",
    "\n",
    "# Pre-flatten the data arrays\n",
    "qlw_rs_flat = qlw_rs.reshape(qlw_rs.shape[0], -1, qlw_rs.shape[2])\n",
    "qsw_rs_flat = qsw_rs.reshape(qsw_rs.shape[0], -1, qsw_rs.shape[2])\n",
    "\n",
    "# Function to process a single time slice\n",
    "def process_time_slice(time_idx):\n",
    "    # Allocate temporary arrays for the current time step\n",
    "    qlw_result = np.full((len(lat_cond) - 1, len(lon_cond) - 1, 18), np.nan)\n",
    "    qsw_result = np.full((len(lat_cond) - 1, len(lon_cond) - 1, 18), np.nan)\n",
    "\n",
    "    for la, lat_mask in enumerate(lat_masks):\n",
    "        for lo, lon_mask in enumerate(lon_masks):\n",
    "            # Combine latitude and longitude masks\n",
    "            combined_mask = lat_mask[time_idx] & lon_mask[time_idx]\n",
    "\n",
    "            # Skip if no valid points\n",
    "            if not np.any(combined_mask):\n",
    "                continue\n",
    "\n",
    "            # Apply mask to select data points for all bins (last dimension)\n",
    "            qlw_data = qlw_rs_flat[time_idx][combined_mask, :]\n",
    "            qsw_data = qsw_rs_flat[time_idx][combined_mask, :]\n",
    "\n",
    "            # Compute mean values across bins (axis 0 represents spatial points)\n",
    "            if not np.all(np.isnan(qlw_data)):\n",
    "                qlw_result[la, lo, :] = np.nanmean(qlw_data, axis=0)\n",
    "\n",
    "            if not np.all(np.isnan(qsw_data)):\n",
    "                qsw_result[la, lo, :] = np.nanmean(qsw_data, axis=0)\n",
    "\n",
    "    return qlw_result, qsw_result\n",
    "\n",
    "# Parallelize over time slices\n",
    "results = Parallel(n_jobs=-1)(\n",
    "    delayed(process_time_slice)(i) for i in range(qlw_rs.shape[0])\n",
    ")\n",
    "\n",
    "# Unpack the results into the pre-allocated arrays\n",
    "for i, (qlw_result, qsw_result) in enumerate(results):\n",
    "    qlw_chunk[i] = qlw_result\n",
    "    qsw_chunk[i] = qsw_result\n",
    "\n",
    "qlw_chunk = qlw_chunk.reshape((ldate, lswath, len(lat_cond) - 1, len(lon_cond) - 1, 18))\n",
    "qsw_chunk = qsw_chunk.reshape((ldate, lswath, len(lat_cond) - 1, len(lon_cond) - 1, 18))"
   ]
  },
  {
   "cell_type": "code",
   "execution_count": 4,
   "id": "8dc11d6b-bd21-4270-aab8-3181d8e5626c",
   "metadata": {
    "execution": {
     "iopub.execute_input": "2024-11-22T08:36:17.614726Z",
     "iopub.status.busy": "2024-11-22T08:36:17.614597Z",
     "iopub.status.idle": "2024-11-22T08:36:33.620572Z",
     "shell.execute_reply": "2024-11-22T08:36:33.620216Z",
     "shell.execute_reply.started": "2024-11-22T08:36:17.614713Z"
    }
   },
   "outputs": [
    {
     "data": {
      "text/plain": [
       "['/work/b11209013/2024_Research/CloudSat/CloudSat_chunk_008.joblib']"
      ]
     },
     "execution_count": 4,
     "metadata": {},
     "output_type": "execute_result"
    }
   ],
   "source": [
    "output_dict = {\n",
    "    'lon': lon_cond[:-1],\n",
    "    'lat': lat_cond[:-1],\n",
    "    'hgt': hgt,\n",
    "    'qlw': qlw_chunk,\n",
    "    'qsw': qsw_chunk,\n",
    "    'description': 'qlw, qsw dimension: (date, max_swath, lat, lon, hgt)'\n",
    "}\n",
    "\n",
    "jl.dump(output_dict, f'/work/b11209013/2024_Research/CloudSat/CloudSat_chunk_{case:003}.joblib', compress=('zlib', 1))"
   ]
  }
 ],
 "metadata": {
  "kernelspec": {
   "display_name": "Python 3 (ipykernel)",
   "language": "python",
   "name": "python3"
  },
  "language_info": {
   "codemirror_mode": {
    "name": "ipython",
    "version": 3
   },
   "file_extension": ".py",
   "mimetype": "text/x-python",
   "name": "python",
   "nbconvert_exporter": "python",
   "pygments_lexer": "ipython3",
   "version": "3.10.15"
  }
 },
 "nbformat": 4,
 "nbformat_minor": 5
}
