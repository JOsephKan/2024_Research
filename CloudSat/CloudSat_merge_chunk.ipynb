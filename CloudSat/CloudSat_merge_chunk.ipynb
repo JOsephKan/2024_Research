{
 "cells": [
  {
   "cell_type": "markdown",
   "id": "5f5c2e31-2a86-4871-8fe1-f0a5775ecfa6",
   "metadata": {},
   "source": [
    "# Merge CloudSat chunk data"
   ]
  },
  {
   "cell_type": "markdown",
   "id": "56ea84cb-ff1c-49b7-ae39-6a27ec84c399",
   "metadata": {},
   "source": [
    "## import package\n"
   ]
  },
  {
   "cell_type": "code",
   "execution_count": 1,
   "id": "6d2a2c11-1569-476f-9279-186270518b0e",
   "metadata": {
    "execution": {
     "iopub.execute_input": "2024-11-22T08:47:30.313971Z",
     "iopub.status.busy": "2024-11-22T08:47:30.313745Z",
     "iopub.status.idle": "2024-11-22T08:47:30.349297Z",
     "shell.execute_reply": "2024-11-22T08:47:30.349013Z",
     "shell.execute_reply.started": "2024-11-22T08:47:30.313958Z"
    }
   },
   "outputs": [],
   "source": [
    "import glob\n",
    "import numpy as np\n",
    "import joblib as jl"
   ]
  },
  {
   "cell_type": "markdown",
   "id": "23f8ca9c-bef9-4739-ba46-aacfa2cd14dd",
   "metadata": {},
   "source": [
    "## Load data"
   ]
  },
  {
   "cell_type": "code",
   "execution_count": 2,
   "id": "385933a4-753b-4c7f-9ac3-ea4f5e9e4f8e",
   "metadata": {
    "execution": {
     "iopub.execute_input": "2024-11-22T08:47:30.355132Z",
     "iopub.status.busy": "2024-11-22T08:47:30.349676Z",
     "iopub.status.idle": "2024-11-22T08:48:26.169702Z",
     "shell.execute_reply": "2024-11-22T08:48:26.169403Z",
     "shell.execute_reply.started": "2024-11-22T08:47:30.355117Z"
    }
   },
   "outputs": [
    {
     "name": "stdout",
     "output_type": "stream",
     "text": [
      "5\n"
     ]
    }
   ],
   "source": [
    "# path file\n",
    "path: str = '/work/b11209013/2024_Research/CloudSat/'\n",
    "\n",
    "# file list\n",
    "flist: list[str] = glob.glob(f'{path}CloudSat_chunk*.joblib')\n",
    "\n",
    "# load data\n",
    "data: dict[int, dict] = {\n",
    "    i: jl.load(f)\n",
    "    for i, f in enumerate(flist)\n",
    "}\n",
    "\n",
    "lon: np.ndarray = data[0]['lon']\n",
    "lat: np.ndarray = data[0]['lat']\n",
    "hgt: np.ndarray = data[0]['hgt']\n",
    "qlw: list[np.ndarray] = [\n",
    "    data[i]['qlw']\n",
    "    for i in data.keys()\n",
    "]\n",
    "qsw: list[np.ndarray] = [\n",
    "    data[i]['qsw']\n",
    "    for i in data.keys()\n",
    "]\n",
    "\n",
    "print(len(qlw))"
   ]
  },
  {
   "cell_type": "markdown",
   "id": "0f9c068a-ab15-4a2d-839f-1cb8fd61ea66",
   "metadata": {},
   "source": [
    "## Merged data"
   ]
  },
  {
   "cell_type": "code",
   "execution_count": 3,
   "id": "4311b69a-56c2-436b-a9ae-8e094f99dce3",
   "metadata": {
    "execution": {
     "iopub.execute_input": "2024-11-22T08:48:26.170272Z",
     "iopub.status.busy": "2024-11-22T08:48:26.170166Z",
     "iopub.status.idle": "2024-11-22T08:51:06.595279Z",
     "shell.execute_reply": "2024-11-22T08:51:06.594858Z",
     "shell.execute_reply.started": "2024-11-22T08:48:26.170261Z"
    }
   },
   "outputs": [
    {
     "data": {
      "text/plain": [
       "['/work/b11209013/2024_Research/CloudSat/CloudSat_chunk_merged.joblib']"
      ]
     },
     "execution_count": 3,
     "metadata": {},
     "output_type": "execute_result"
    }
   ],
   "source": [
    "qlw_merged: np.ndarray = np.concatenate(qlw, axis=0)\n",
    "qsw_merged: np.ndarray = np.concatenate(qsw, axis=0)\n",
    "\n",
    "output_dict: dict[str, np.ndarray] = {\n",
    "    'lon': lon,\n",
    "    'lat': lat,\n",
    "    'lev': hgt,\n",
    "    'qlw': qlw_merged,\n",
    "    'qsw': qsw_merged,\n",
    "    'description': 'qlw, qsw size: (date, max_swath, lat, lon, lev)'\n",
    "}\n",
    "\n",
    "jl.dump(output_dict, f'/work/b11209013/2024_Research/CloudSat/CloudSat_chunk_merged.joblib', compress=('zlib', 1))"
   ]
  }
 ],
 "metadata": {
  "kernelspec": {
   "display_name": "Python 3 (ipykernel)",
   "language": "python",
   "name": "python3"
  },
  "language_info": {
   "codemirror_mode": {
    "name": "ipython",
    "version": 3
   },
   "file_extension": ".py",
   "mimetype": "text/x-python",
   "name": "python",
   "nbconvert_exporter": "python",
   "pygments_lexer": "ipython3",
   "version": "3.10.15"
  }
 },
 "nbformat": 4,
 "nbformat_minor": 5
}
