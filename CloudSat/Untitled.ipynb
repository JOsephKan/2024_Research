{
 "cells": [
  {
   "cell_type": "markdown",
   "id": "5155bcd2-ff62-4745-8afc-20c77efe8454",
   "metadata": {},
   "source": [
    "# Load HDF test"
   ]
  },
  {
   "cell_type": "markdown",
   "id": "244bb8fb-c547-4cab-85e1-a36fb4bc423e",
   "metadata": {},
   "source": [
    "## using package"
   ]
  },
  {
   "cell_type": "code",
   "execution_count": 1,
   "id": "3dc096be-36dd-4459-8fca-d0fec407c9cb",
   "metadata": {
    "execution": {
     "iopub.execute_input": "2024-11-23T20:17:38.929",
     "iopub.status.busy": "2024-11-23T20:17:38.602",
     "iopub.status.idle": "2024-11-23T20:17:39.123",
     "shell.execute_reply": "2024-11-23T20:17:39.091"
    }
   },
   "outputs": [],
   "source": [
    "using GDAL"
   ]
  },
  {
   "cell_type": "markdown",
   "id": "2f3113c2-5dcd-42c0-8897-b6a99dc36a9a",
   "metadata": {},
   "source": [
    "## Load data"
   ]
  },
  {
   "cell_type": "code",
   "execution_count": 8,
   "id": "b04cfea0-df3d-4867-a3e1-fb4aa647aba1",
   "metadata": {
    "execution": {
     "iopub.execute_input": "2024-11-23T20:23:56.309",
     "iopub.status.busy": "2024-11-23T20:23:56.309",
     "iopub.status.idle": "2024-11-23T20:23:56.349",
     "shell.execute_reply": "2024-11-23T20:23:56.349"
    }
   },
   "outputs": [
    {
     "ename": "LoadError",
     "evalue": "UndefVarError: `getGDALMajorObject` not defined",
     "output_type": "error",
     "traceback": [
      "UndefVarError: `getGDALMajorObject` not defined",
      "",
      "Stacktrace:",
      " [1] getproperty(x::Module, f::Symbol)",
      "   @ Base ./Base.jl:31",
      " [2] top-level scope",
      "   @ In[8]:6"
     ]
    }
   ],
   "source": [
    "path = \"/work/DATA/Satellite/CloudSat/2006/163/2006163205526_00663_CS_2B-FLXHR-LIDAR_GRANULE_P2_R05_E00_F00.hdf\"\n",
    "\n",
    "file = GDAL.read(path)\n",
    "\n",
    "# Get metadata for the main dataset\n",
    "main_metadata = GDAL.getmetadata(GDAL.getGDALMajorObject(dataset))\n",
    "println(\"Main Metadata: \", main_metadata)\n",
    "\n",
    "subdataset_keys = filter(key -> startswith(key, \"SUBDATASET_\"), keys(main_metadata))\n",
    "subdatasets = Dict(key => main_metadata[key] for key in subdataset_keys)\n",
    "\n",
    "println(\"Subdatasets: \", subdatasets)\n"
   ]
  }
 ],
 "metadata": {
  "kernelspec": {
   "display_name": "Julia 1.10.2",
   "language": "julia",
   "name": "julia-1.10"
  },
  "language_info": {
   "file_extension": ".jl",
   "mimetype": "application/julia",
   "name": "julia",
   "version": "1.10.2"
  }
 },
 "nbformat": 4,
 "nbformat_minor": 5
}
