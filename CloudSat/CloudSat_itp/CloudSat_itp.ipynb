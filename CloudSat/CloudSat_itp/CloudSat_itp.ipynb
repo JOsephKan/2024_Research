{
 "cells": [
  {
   "cell_type": "markdown",
   "id": "2d691dfe-aecc-4e89-9525-f1d1a91ee40a",
   "metadata": {},
   "source": [
    "# CloudSat LRF construct"
   ]
  },
  {
   "cell_type": "markdown",
   "id": "95446bde-5d47-4334-815b-d9067d15458a",
   "metadata": {},
   "source": [
    "## imprt pacakge"
   ]
  },
  {
   "cell_type": "code",
   "execution_count": 1,
   "id": "6644829f-c81c-4c8b-8594-7e665913f688",
   "metadata": {
    "execution": {
     "iopub.execute_input": "2024-11-21T09:55:56.836258Z",
     "iopub.status.busy": "2024-11-21T09:55:56.836124Z",
     "iopub.status.idle": "2024-11-21T09:55:57.856195Z",
     "shell.execute_reply": "2024-11-21T09:55:57.855861Z",
     "shell.execute_reply.started": "2024-11-21T09:55:56.836246Z"
    }
   },
   "outputs": [],
   "source": [
    "import sys\n",
    "import numpy as np\n",
    "import joblib as jl\n",
    "import netCDF4 as nc\n",
    "from joblib import Parallel, delayed\n",
    "from scipy.interpolate import interp1d\n",
    "from matplotlib import pyplot as plt\n",
    "np.set_printoptions(threshold=sys.maxsize)\n",
    "\n",
    "from metpy.units import units\n",
    "from metpy.calc import *\n"
   ]
  },
  {
   "cell_type": "markdown",
   "id": "2fd6fbc1-a638-4a74-a06a-68b7ea4cb160",
   "metadata": {},
   "source": [
    "## Load data"
   ]
  },
  {
   "cell_type": "code",
   "execution_count": 2,
   "id": "5b3432b1-727f-417f-870f-f942bc83894d",
   "metadata": {
    "execution": {
     "iopub.execute_input": "2024-11-21T09:55:57.856859Z",
     "iopub.status.busy": "2024-11-21T09:55:57.856645Z",
     "iopub.status.idle": "2024-11-21T09:57:02.093188Z",
     "shell.execute_reply": "2024-11-21T09:57:02.092497Z",
     "shell.execute_reply.started": "2024-11-21T09:55:57.856846Z"
    }
   },
   "outputs": [],
   "source": [
    "# name of CloudSat data\n",
    "fname: str = '/work/b11209013/LRF/data/CloudSat/CloudSat_array.pkl'\n",
    "\n",
    "data: dict[str] = jl.load(fname)\n",
    "\n",
    "i: int = 8\n",
    "\n",
    "lon : np.ndarray[float] = data['lon'][i*357:(i+2)*357]\n",
    "lat : np.ndarray[float] = data['lat'][i*357:(i+2)*357]\n",
    "hgt : np.ndarray[float] = data['hgt'][i*357:(i+2)*357]\n",
    "qlw : np.ndarray[float] = data['qlw'][i*357:(i+2)*357]\n",
    "qsw : np.ndarray[float] = data['qsw'][i*357:(i+2)*357]\n",
    "\n",
    "ldate, lswath, lray, lbin = qsw.shape\n",
    "\n",
    "del data"
   ]
  },
  {
   "cell_type": "markdown",
   "id": "797fc252-c9e7-417c-aca4-7269f03fd5a1",
   "metadata": {},
   "source": [
    "### load variables"
   ]
  },
  {
   "cell_type": "markdown",
   "id": "bc044383-3b79-4499-b195-7588abac3181",
   "metadata": {},
   "source": [
    "## Chunking data"
   ]
  },
  {
   "cell_type": "code",
   "execution_count": 3,
   "id": "3b7e323c-d8ea-48c7-b1e6-89745a37c0b5",
   "metadata": {
    "execution": {
     "iopub.execute_input": "2024-11-21T09:57:02.094090Z",
     "iopub.status.busy": "2024-11-21T09:57:02.093958Z",
     "iopub.status.idle": "2024-11-21T09:59:39.010308Z",
     "shell.execute_reply": "2024-11-21T09:59:39.009596Z",
     "shell.execute_reply.started": "2024-11-21T09:57:02.094078Z"
    }
   },
   "outputs": [],
   "source": [
    "# Set pressure levels as MPAS LRF\n",
    "p_lev = np.linspace(150, 1000, 18)\n",
    "\n",
    "# Convert into height coordinate\n",
    "h_lev = np.array(pressure_to_height_std(p_lev * units('hPa'))) * 1000  # shape (18,)\n",
    "\n",
    "# Reshape the data to 2D: (N, original_height_levels)\n",
    "N = ldate * lswath * lray\n",
    "hgt_flat = hgt.reshape(N, -1)  # shape (N, original_height_levels)\n",
    "qlw_flat = qlw.reshape(N, -1)\n",
    "qsw_flat = qsw.reshape(N, -1)\n",
    "\n",
    "# Function to perform interpolation for a single profile\n",
    "def interpolate_profile_parallel(n):\n",
    "    hgt_temp = hgt_flat[n]\n",
    "    qlw_temp = qlw_flat[n]\n",
    "    qsw_temp = qsw_flat[n]\n",
    "    \n",
    "    # Interpolate qlw\n",
    "    if np.all(np.isnan(qlw_temp)):\n",
    "        qlw_itp_temp = np.full_like(h_lev, np.nan)\n",
    "    else:\n",
    "        valid = ~np.isnan(qlw_temp)\n",
    "        if np.sum(valid) < 2:\n",
    "            qlw_itp_temp = np.full_like(h_lev, np.nan)\n",
    "        else:\n",
    "            h_sorted = hgt_temp[valid]\n",
    "            q_sorted = qlw_temp[valid]\n",
    "            sorted_indices = np.argsort(h_sorted)\n",
    "            h_sorted = h_sorted[sorted_indices]\n",
    "            q_sorted = q_sorted[sorted_indices]\n",
    "            try:\n",
    "                interp_func = interp1d(h_sorted, q_sorted, kind='cubic', bounds_error=False, fill_value='extrapolate')\n",
    "                qlw_itp_temp = interp_func(h_lev)\n",
    "            except:\n",
    "                qlw_itp_temp = np.full_like(h_lev, np.nan)\n",
    "    \n",
    "    # Interpolate qsw\n",
    "    if np.all(np.isnan(qsw_temp)):\n",
    "        qsw_itp_temp = np.full_like(h_lev, np.nan)\n",
    "    else:\n",
    "        valid = ~np.isnan(qsw_temp)\n",
    "        if np.sum(valid) < 2:\n",
    "            qsw_itp_temp = np.full_like(h_lev, np.nan)\n",
    "        else:\n",
    "            h_sorted = hgt_temp[valid]\n",
    "            q_sorted = qsw_temp[valid]\n",
    "            sorted_indices = np.argsort(h_sorted)\n",
    "            h_sorted = h_sorted[sorted_indices]\n",
    "            q_sorted = q_sorted[sorted_indices]\n",
    "            try:\n",
    "                interp_func = interp1d(h_sorted, q_sorted, kind='cubic', bounds_error=False, fill_value='extrapolate')\n",
    "                qsw_itp_temp = interp_func(h_lev)\n",
    "            except:\n",
    "                qsw_itp_temp = np.full_like(h_lev, np.nan)\n",
    "    \n",
    "    return qlw_itp_temp, qsw_itp_temp\n",
    "\n",
    "# Parallel processing\n",
    "results = Parallel(n_jobs=-1, backend='loky')(delayed(interpolate_profile_parallel)(n) for n in range(N))\n",
    "\n",
    "# Separate the results\n",
    "qlw_itp_flat, qsw_itp_flat = zip(*results)\n",
    "qlw_itp_flat = np.array(qlw_itp_flat)\n",
    "qsw_itp_flat = np.array(qsw_itp_flat)\n",
    "\n",
    "# Reshape back to original multi-dimensional shape\n",
    "qlw_itp = qlw_itp_flat.reshape(ldate, lswath, lray, 18)\n",
    "qsw_itp = qsw_itp_flat.reshape(ldate, lswath, lray, 18)"
   ]
  },
  {
   "cell_type": "code",
   "execution_count": 4,
   "id": "92eaaaef-ed44-4530-8b0f-e56d22f1585b",
   "metadata": {
    "execution": {
     "iopub.execute_input": "2024-11-21T09:59:39.011725Z",
     "iopub.status.busy": "2024-11-21T09:59:39.011173Z",
     "iopub.status.idle": "2024-11-21T09:59:39.076568Z",
     "shell.execute_reply": "2024-11-21T09:59:39.076230Z",
     "shell.execute_reply.started": "2024-11-21T09:59:39.011710Z"
    }
   },
   "outputs": [
    {
     "name": "stdout",
     "output_type": "stream",
     "text": [
      "[ -0.46273848  -1.19732709  -1.76096734  -1.24507801  -0.98530221\n",
      "  -2.03997462  -2.40078467  -1.97075861  -2.73315696  -2.75312828\n",
      "  -2.47975803  -4.20354641 -22.55806574  -0.71965378  -0.7905653\n",
      "  -0.80168786  -0.44580589   9.91439896]\n"
     ]
    },
    {
     "data": {
      "image/png": "[encoded data removed]",
      "text/plain": [
       "<Figure size 640x480 with 1 Axes>"
      ]
     },
     "metadata": {},
     "output_type": "display_data"
    }
   ],
   "source": [
    "plt.plot(qlw[0, 0, 0], hgt[0, 0, 0])\n",
    "plt.plot(qlw_itp[0, 0, 0], h_lev)\n",
    "print(qlw_itp[0, 0, 0])"
   ]
  },
  {
   "cell_type": "code",
   "execution_count": 5,
   "id": "3ba9c5d0-cbcb-4a2a-b2b8-3e0689ec911f",
   "metadata": {
    "execution": {
     "iopub.execute_input": "2024-11-21T09:59:39.077307Z",
     "iopub.status.busy": "2024-11-21T09:59:39.077085Z",
     "iopub.status.idle": "2024-11-21T09:59:39.802555Z",
     "shell.execute_reply": "2024-11-21T09:59:39.802193Z",
     "shell.execute_reply.started": "2024-11-21T09:59:39.077295Z"
    }
   },
   "outputs": [
    {
     "data": {
      "text/plain": [
       "['/work/b11209013/2024_Research/CloudSat/CloudSat_itp_008.joblib']"
      ]
     },
     "execution_count": 5,
     "metadata": {},
     "output_type": "execute_result"
    }
   ],
   "source": [
    "output_dict = {\n",
    "    'lon': lon,\n",
    "    'lat': lat,\n",
    "    'hgt': p_lev,\n",
    "    'qlw': qlw_itp,\n",
    "    'qsw': qsw_itp,\n",
    "}\n",
    "\n",
    "jl.dump(output_dict, f'/work/b11209013/2024_Research/CloudSat/CloudSat_itp_{i:003}.joblib')"
   ]
  }
 ],
 "metadata": {
  "kernelspec": {
   "display_name": "Python 3 (ipykernel)",
   "language": "python",
   "name": "python3"
  },
  "language_info": {
   "codemirror_mode": {
    "name": "ipython",
    "version": 3
   },
   "file_extension": ".py",
   "mimetype": "text/x-python",
   "name": "python",
   "nbconvert_exporter": "python",
   "pygments_lexer": "ipython3",
   "version": "3.10.15"
  }
 },
 "nbformat": 4,
 "nbformat_minor": 5
}
