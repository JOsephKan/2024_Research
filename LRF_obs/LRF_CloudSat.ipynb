{
 "cells": [
  {
   "cell_type": "markdown",
   "id": "f377249e-2471-4a68-a998-6d9660b2312d",
   "metadata": {},
   "source": [
    "# CloudSat for LRF construct"
   ]
  },
  {
   "cell_type": "markdown",
   "id": "f2aa8c2d-8c07-446c-b225-302a5acce0d6",
   "metadata": {},
   "source": [
    "## Import package"
   ]
  },
  {
   "cell_type": "code",
   "execution_count": 1,
   "id": "5646049e-f5e0-4322-b6de-564d14bc144c",
   "metadata": {
    "execution": {
     "iopub.execute_input": "2024-11-06T01:35:17.694406Z",
     "iopub.status.busy": "2024-11-06T01:35:17.694213Z",
     "iopub.status.idle": "2024-11-06T01:35:17.756496Z",
     "shell.execute_reply": "2024-11-06T01:35:17.756118Z",
     "shell.execute_reply.started": "2024-11-06T01:35:17.694392Z"
    }
   },
   "outputs": [],
   "source": [
    "import numpy as np\n",
    "import joblib as jl"
   ]
  },
  {
   "cell_type": "markdown",
   "id": "b7c3346e-c799-4a5a-9821-c5555c35c7c8",
   "metadata": {},
   "source": [
    "## Load data"
   ]
  },
  {
   "cell_type": "code",
   "execution_count": null,
   "id": "07d88b9a-ab95-4d3f-9688-4eb9d2f428ee",
   "metadata": {},
   "outputs": [],
   "source": [
    "path: str = '/work/b11209013/LRF/'"
   ]
  }
 ],
 "metadata": {
  "kernelspec": {
   "display_name": "Python 3 (ipykernel)",
   "language": "python",
   "name": "python3"
  },
  "language_info": {
   "codemirror_mode": {
    "name": "ipython",
    "version": 3
   },
   "file_extension": ".py",
   "mimetype": "text/x-python",
   "name": "python",
   "nbconvert_exporter": "python",
   "pygments_lexer": "ipython3",
   "version": "3.10.15"
  }
 },
 "nbformat": 4,
 "nbformat_minor": 5
}
