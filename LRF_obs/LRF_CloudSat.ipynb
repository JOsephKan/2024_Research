{
 "cells": [
  {
   "cell_type": "markdown",
   "id": "f377249e-2471-4a68-a998-6d9660b2312d",
   "metadata": {},
   "source": [
    "# CloudSat for LRF construct"
   ]
  },
  {
   "cell_type": "code",
   "execution_count": null,
   "id": "72595266-9657-4999-b15c-5c5889963db3",
   "metadata": {},
   "outputs": [],
   "source": []
  }
 ],
 "metadata": {
  "kernelspec": {
   "display_name": "Python 3 (ipykernel)",
   "language": "python",
   "name": "python3"
  },
  "language_info": {
   "codemirror_mode": {
    "name": "ipython",
    "version": 3
   },
   "file_extension": ".py",
   "mimetype": "text/x-python",
   "name": "python",
   "nbconvert_exporter": "python",
   "pygments_lexer": "ipython3",
   "version": "3.10.15"
  }
 },
 "nbformat": 4,
 "nbformat_minor": 5
}
