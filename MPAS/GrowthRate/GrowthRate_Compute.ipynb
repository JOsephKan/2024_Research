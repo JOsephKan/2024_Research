{
 "cells": [
  {
   "cell_type": "markdown",
   "metadata": {},
   "source": [
    "# Growth Rate Computation of MPAS Experiments"
   ]
  },
  {
   "cell_type": "markdown",
   "metadata": {},
   "source": [
    "## import package"
   ]
  },
  {
   "cell_type": "code",
   "execution_count": 3,
   "metadata": {},
   "outputs": [],
   "source": [
    "import sys\n",
    "import numpy as np\n",
    "import joblib as jl\n",
    "\n",
    "sys.path.append('/home/b11209013/Package/')\n",
    "import Theory as th # type: ignore\n",
    "import DataProcess as dp # type: ignore\n",
    "import SignalProcess as sp # type: ignore"
   ]
  },
  {
   "cell_type": "markdown",
   "metadata": {},
   "source": [
    "## Load data"
   ]
  },
  {
   "cell_type": "code",
   "execution_count": 10,
   "metadata": {},
   "outputs": [],
   "source": [
    "# case name\n",
    "case: str = 'CNTL'\n",
    "\n",
    "# path\n",
    "fname: str = '/home/b11209013/2024_Research/MPAS/PCA_file/CNTL_PC.joblib'\n",
    "\n",
    "# load data\n",
    "data: dict = jl.load(fname)\n",
    "\n",
    "# extract data\n",
    "pc: dict[str: np.ndarray] = {}\n",
    "\n",
    "lon : np.ndarray = data['lon']\n",
    "lat : np.ndarray = data['lat']\n",
    "time: np.ndarray = data['time']\n",
    "\n",
    "pc['tpc1']  = data['pc1']['t']\n",
    "pc['tpc2']  = data['pc2']['t']\n",
    "pc['q1pc1'] = data['pc1']['q1']\n",
    "pc['q1pc2'] = data['pc2']['q1']"
   ]
  }
 ],
 "metadata": {
  "kernelspec": {
   "display_name": "Python 3",
   "language": "python",
   "name": "python3"
  },
  "language_info": {
   "codemirror_mode": {
    "name": "ipython",
    "version": 3
   },
   "file_extension": ".py",
   "mimetype": "text/x-python",
   "name": "python",
   "nbconvert_exporter": "python",
   "pygments_lexer": "ipython3",
   "version": "3.10.15"
  }
 },
 "nbformat": 4,
 "nbformat_minor": 2
}
