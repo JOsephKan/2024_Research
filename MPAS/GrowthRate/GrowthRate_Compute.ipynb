{
 "cells": [
  {
   "cell_type": "markdown",
   "metadata": {},
   "source": [
    "# Growth Rate Computation of MPAS Experiments"
   ]
  },
  {
   "cell_type": "markdown",
   "metadata": {},
   "source": [
    "## import package"
   ]
  },
  {
   "cell_type": "code",
   "execution_count": 40,
   "metadata": {},
   "outputs": [],
   "source": [
    "import sys\n",
    "import numpy as np\n",
    "import joblib as jl\n",
    "\n",
    "sys.path.append('/home/b11209013/Package/')\n",
    "import Theory as th # type: ignore\n",
    "import DataProcess as dp # type: ignore\n",
    "import SignalProcess as sp # type: ignore"
   ]
  },
  {
   "cell_type": "markdown",
   "metadata": {},
   "source": [
    "## Functions"
   ]
  },
  {
   "cell_type": "markdown",
   "metadata": {},
   "source": [
    "### Covariance"
   ]
  },
  {
   "cell_type": "code",
   "execution_count": 41,
   "metadata": {},
   "outputs": [],
   "source": [
    "ft = sp.Fourier()\n",
    "\n",
    "def Covariance(data1, data2):\n",
    "    \n",
    "    cs = ft.CrossSpectrum(data1, data2)\n",
    "\n",
    "    cs_smooth = np.empty(cs.shape, dtype = complex)\n",
    "    \n",
    "    kernel = np.array([1, 2, 1]) / 4\n",
    "    \n",
    "    for i in range(cs.shape[0]):\n",
    "        cs_smooth[i] = np.convolve(cs[i], kernel, mode='same')\n",
    "    \n",
    "    for i in range(cs.shape[1]):\n",
    "        cs_smooth[:, i] = np.convolve(cs_smooth[:, i], kernel, mode='same')\n",
    "    \n",
    "    return cs_smooth"
   ]
  },
  {
   "cell_type": "markdown",
   "metadata": {},
   "source": [
    "### Phase"
   ]
  },
  {
   "cell_type": "code",
   "execution_count": 42,
   "metadata": {},
   "outputs": [],
   "source": [
    "def Phase(data1, data2):\n",
    "    \n",
    "    cs = np.array([\n",
    "        Covariance(data1[i], data2[i])\n",
    "        for i in range(data1.shape[0])\n",
    "    ])\n",
    "    \n",
    "    phase = np.atan2(cs.imag, cs.real)\n",
    "    \n",
    "    return phase"
   ]
  },
  {
   "cell_type": "markdown",
   "metadata": {},
   "source": [
    "### Growth Rate"
   ]
  },
  {
   "cell_type": "code",
   "execution_count": 43,
   "metadata": {},
   "outputs": [],
   "source": [
    "def Growth_Rate(data1, data2):\n",
    "    \n",
    "    var = np.array([\n",
    "        Covariance(data2[i], data2[i]).real\n",
    "        for i in range(data2.shape[0])\n",
    "    ]).mean(axis=0)\n",
    "    cov = np.array([\n",
    "        Covariance(data1[i], data2[i])\n",
    "        for i in range(data2.shape[0])\n",
    "    ]).mean(axis=0)\n",
    "    \n",
    "    sigma = 2*np.real(cov) / var\n",
    "    \n",
    "    return sigma"
   ]
  },
  {
   "cell_type": "markdown",
   "metadata": {},
   "source": [
    "### Coherence Square"
   ]
  },
  {
   "cell_type": "code",
   "execution_count": 44,
   "metadata": {},
   "outputs": [],
   "source": [
    "def Coherence(data1, data2):\n",
    "    \n",
    "    var1 = np.array([\n",
    "        Covariance(data1[i], data1[i]).real\n",
    "        for i in range(data1.shape[0])\n",
    "    ]).mean(axis=0)\n",
    "    var2 = np.array([\n",
    "        Covariance(data2[i], data2[i]).real\n",
    "        for i in range(data2.shape[0])\n",
    "    ]).mean(axis=0)\n",
    "    cov  = np.array([\n",
    "        Covariance(data1[i], data2[i])\n",
    "        for i in range(data1.shape[0])\n",
    "    ]).mean(axis=0)\n",
    "    \n",
    "    Coh2 = ((cov.real)**2 + (cov.imag)**2) / (var1 * var2)\n",
    "\n",
    "    return Coh2"
   ]
  },
  {
   "cell_type": "markdown",
   "metadata": {},
   "source": [
    "## Load data"
   ]
  },
  {
   "cell_type": "code",
   "execution_count": 45,
   "metadata": {},
   "outputs": [],
   "source": [
    "# case name\n",
    "case: str = 'CNTL'\n",
    "\n",
    "# path\n",
    "fname: str = '/home/b11209013/2024_Research/MPAS/PCA_file/CNTL_PC.joblib'\n",
    "\n",
    "# load data\n",
    "data: dict = jl.load(fname)\n",
    "\n",
    "# extract data\n",
    "pc: dict[str: np.ndarray] = {}\n",
    "\n",
    "lon : np.ndarray = data['lon']\n",
    "lat : np.ndarray = data['lat']\n",
    "time: np.ndarray = data['time']\n",
    "\n",
    "pc['tpc1']  = data['pc1']['t']\n",
    "pc['tpc2']  = data['pc2']['t']\n",
    "pc['q1pc1'] = data['pc1']['q1']\n",
    "pc['q1pc2'] = data['pc2']['q1']"
   ]
  },
  {
   "cell_type": "markdown",
   "metadata": {},
   "source": [
    "## Process Data"
   ]
  },
  {
   "cell_type": "markdown",
   "metadata": {},
   "source": [
    "### Format data"
   ]
  },
  {
   "cell_type": "code",
   "execution_count": 46,
   "metadata": {},
   "outputs": [],
   "source": [
    "fmt = dp.Format(lat)\n",
    "\n",
    "ps_sym = {\n",
    "    var: fmt.sym(pc[var])\n",
    "    for var in pc.keys()\n",
    "}"
   ]
  },
  {
   "cell_type": "markdown",
   "metadata": {},
   "source": [
    "### Windowing data"
   ]
  },
  {
   "cell_type": "code",
   "execution_count": 47,
   "metadata": {},
   "outputs": [],
   "source": [
    "Hann_windowing = np.hanning(120)[:, None]\n",
    "\n",
    "ps_hann = {\n",
    "    var: np.array([\n",
    "        ps_sym[var][i*60:i*60+120] * Hann_windowing\n",
    "        for i in range(5)\n",
    "        ])\n",
    "    for var in pc.keys()\n",
    "}\n"
   ]
  },
  {
   "cell_type": "markdown",
   "metadata": {},
   "source": [
    "## Compute Variables}"
   ]
  },
  {
   "cell_type": "code",
   "execution_count": 48,
   "metadata": {},
   "outputs": [],
   "source": [
    "phase = {\n",
    "    'pc1': Phase(ps_hann['tpc1'], ps_hann['q1pc1']),\n",
    "    'pc2': Phase(ps_hann['tpc2'], ps_hann['q1pc2'])\n",
    "}"
   ]
  },
  {
   "cell_type": "markdown",
   "metadata": {},
   "source": [
    "### Growth Rate"
   ]
  },
  {
   "cell_type": "code",
   "execution_count": 49,
   "metadata": {},
   "outputs": [],
   "source": [
    "sigma = {\n",
    "    'pc1': Growth_Rate(ps_hann['q1pc1'], ps_hann['tpc1']),\n",
    "    'pc2': Growth_Rate(ps_hann['q1pc2'], ps_hann['tpc2']),\n",
    "}"
   ]
  },
  {
   "cell_type": "markdown",
   "metadata": {},
   "source": [
    "### Coherence Square"
   ]
  },
  {
   "cell_type": "code",
   "execution_count": 50,
   "metadata": {},
   "outputs": [],
   "source": [
    "Coh2 = {\n",
    "    'pc1': Coherence(ps_hann['q1pc1'], ps_hann['tpc1']),\n",
    "    'pc2': Coherence(ps_hann['q1pc2'], ps_hann['tpc2']),\n",
    "}"
   ]
  },
  {
   "cell_type": "markdown",
   "metadata": {},
   "source": [
    "### Fishers' Z-transform"
   ]
  },
  {
   "cell_type": "code",
   "execution_count": 53,
   "metadata": {},
   "outputs": [],
   "source": [
    "def z_transform(coh2):\n",
    "    r = np.sqrt(coh2)\n",
    "\n",
    "    return np.log((1+r)/(1-r))\n",
    "\n",
    "Z_trans = {\n",
    "    'pc1': z_transform(Coh2['pc1']),\n",
    "    'pc2': z_transform(Coh2['pc2']),\n",
    "}"
   ]
  },
  {
   "cell_type": "markdown",
   "metadata": {},
   "source": [
    "## Statistics Test"
   ]
  },
  {
   "cell_type": "markdown",
   "metadata": {},
   "source": [
    "### Z-test on Transformed Z"
   ]
  },
  {
   "cell_type": "code",
   "execution_count": null,
   "metadata": {},
   "outputs": [],
   "source": []
  },
  {
   "cell_type": "markdown",
   "metadata": {},
   "source": [
    "## Plot Growth Rate Diagram"
   ]
  },
  {
   "cell_type": "markdown",
   "metadata": {},
   "source": [
    "### Plot setting"
   ]
  },
  {
   "cell_type": "code",
   "execution_count": 51,
   "metadata": {},
   "outputs": [],
   "source": [
    "wn = np.linspace(-360, 360, 720)\n",
    "fr = np.linspace(1/30, 2, 60)\n",
    "\n",
    "wnm, frm = np.meshgrid(wn, fr)"
   ]
  },
  {
   "cell_type": "markdown",
   "metadata": {},
   "source": [
    "### Growth Rate"
   ]
  },
  {
   "cell_type": "markdown",
   "metadata": {},
   "source": []
  }
 ],
 "metadata": {
  "kernelspec": {
   "display_name": "Python 3",
   "language": "python",
   "name": "python3"
  },
  "language_info": {
   "codemirror_mode": {
    "name": "ipython",
    "version": 3
   },
   "file_extension": ".py",
   "mimetype": "text/x-python",
   "name": "python",
   "nbconvert_exporter": "python",
   "pygments_lexer": "ipython3",
   "version": "3.10.15"
  }
 },
 "nbformat": 4,
 "nbformat_minor": 2
}
