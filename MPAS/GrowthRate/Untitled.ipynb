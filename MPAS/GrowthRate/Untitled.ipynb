{
 "cells": [
  {
   "cell_type": "markdown",
   "id": "ad10a158-d2ab-4fcf-993c-28b2d86f9675",
   "metadata": {},
   "source": [
    "# EAPE growth rate computation\n"
   ]
  },
  {
   "cell_type": "markdown",
   "id": "5b52cf91-5ed9-428a-88f3-abcc5d21925d",
   "metadata": {},
   "source": [
    "## import package\n"
   ]
  },
  {
   "cell_type": "code",
   "execution_count": null,
   "id": "139ce677-511f-4049-af34-4e13dc0ed09e",
   "metadata": {},
   "outputs": [],
   "source": [
    "import sys\n",
    "import numpy as np\n",
    "import pickle as pkl\n",
    "\n",
    "from matplotlib import pyplot as plt\n",
    "\n",
    "sys.path.append(\"/home/b11209013/Package\")\n",
    "import Theory as th\n",
    "import DataProcess as dp\n",
    "import SignalProcess as sp"
   ]
  }
 ],
 "metadata": {
  "kernelspec": {
   "display_name": "Python 3 (ipykernel)",
   "language": "python",
   "name": "python3"
  },
  "language_info": {
   "codemirror_mode": {
    "name": "ipython",
    "version": 3
   },
   "file_extension": ".py",
   "mimetype": "text/x-python",
   "name": "python",
   "nbconvert_exporter": "python",
   "pygments_lexer": "ipython3",
   "version": "3.10.15"
  }
 },
 "nbformat": 4,
 "nbformat_minor": 5
}
