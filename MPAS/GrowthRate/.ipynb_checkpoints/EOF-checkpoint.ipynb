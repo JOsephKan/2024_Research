{
 "cells": [
  {
   "cell_type": "markdown",
   "id": "3169a83f-b17b-44b9-8f54-8494379bdea6",
   "metadata": {},
   "source": [
    "# CNTL EOF Q1 structure construct "
   ]
  },
  {
   "cell_type": "markdown",
   "id": "0e50dca2-c86e-4ccd-8659-f926db8be1ad",
   "metadata": {},
   "source": [
    "## import package"
   ]
  },
  {
   "cell_type": "code",
   "execution_count": 2,
   "id": "477ed98d-2e04-4ca6-afba-3557a3dd6fd9",
   "metadata": {
    "execution": {
     "iopub.execute_input": "2024-10-17T02:26:50.287539Z",
     "iopub.status.busy": "2024-10-17T02:26:50.287136Z",
     "iopub.status.idle": "2024-10-17T02:26:50.290197Z",
     "shell.execute_reply": "2024-10-17T02:26:50.289723Z",
     "shell.execute_reply.started": "2024-10-17T02:26:50.287525Z"
    }
   },
   "outputs": [],
   "source": [
    "import numpy as np \n",
    "from matplotlib import pyplot as plt\n",
    "from scipy.interpolate import interp1d"
   ]
  },
  {
   "cell_type": "markdown",
   "id": "06926eb8-6f69-4cf6-b4e1-42bec221fa88",
   "metadata": {},
   "source": [
    "## load data"
   ]
  },
  {
   "cell_type": "code",
   "execution_count": null,
   "id": "8576259e-351d-4f5f-9089-67a4d8afd309",
   "metadata": {},
   "outputs": [],
   "source": [
    "wi"
   ]
  }
 ],
 "metadata": {
  "kernelspec": {
   "display_name": "Python 3 (ipykernel)",
   "language": "python",
   "name": "python3"
  },
  "language_info": {
   "codemirror_mode": {
    "name": "ipython",
    "version": 3
   },
   "file_extension": ".py",
   "mimetype": "text/x-python",
   "name": "python",
   "nbconvert_exporter": "python",
   "pygments_lexer": "ipython3",
   "version": "3.10.15"
  }
 },
 "nbformat": 4,
 "nbformat_minor": 5
}
