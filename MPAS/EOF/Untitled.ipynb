{
 "cells": [
  {
   "cell_type": "markdown",
   "id": "533bc6c0-89e2-4209-a697-dc3df9517050",
   "metadata": {},
   "source": [
    "# EOF\n"
   ]
  },
  {
   "cell_type": "markdown",
   "id": "37476f91-75f6-4546-be51-4853a3bb2516",
   "metadata": {},
   "source": [
    "## Using package\n"
   ]
  },
  {
   "cell_type": "code",
   "execution_count": 1,
   "id": "5e190282-3b18-4d32-ae3b-0b2b00ee75f5",
   "metadata": {
    "execution": {
     "iopub.execute_input": "2024-12-11T16:16:30.973",
     "iopub.status.busy": "2024-12-11T16:16:30.973",
     "iopub.status.idle": "2024-12-11T16:16:30.974",
     "shell.execute_reply": "2024-12-11T16:16:30.974"
    }
   },
   "outputs": [],
   "source": [
    "using Plots\n",
    "using NCDatasets\n",
    "using Statistics\n",
    "using LinearAlgebra\n",
    "using MultivariateStats\n"
   ]
  },
  {
   "cell_type": "code",
   "execution_count": 2,
   "id": "be1ea9a5",
   "metadata": {},
   "outputs": [
    {
     "data": {
      "text/plain": [
       "EmpOrthFunc (generic function with 1 method)"
      ]
     },
     "execution_count": 2,
     "metadata": {},
     "output_type": "execute_result"
    }
   ],
   "source": [
    "using LinearAlgebra\n",
    "\n",
    "function EmpOrthFunc(data)\n",
    "    # Calculate Covariance Matrix\n",
    "    CovMat = (data * data') / size(data, 2)\n",
    "\n",
    "    eigvals = eigvals(CovMat)\n",
    "    eigvecs = eigvecs(CovMat)\n",
    "\n",
    "    # Explained Variance Ratio\n",
    "    ExpVar = eigvals ./ sum(eigvals)\n",
    "\n",
    "    # Sort eigenvalues and eigenvectors together by decreasing explained variance\n",
    "    sorting = reverse(argsort(ExpVar))\n",
    "    ExpVar = ExpVar[sorting]\n",
    "    eigvecs = eigvecs[:, sorting]\n",
    "\n",
    "    # Adjust sign of EOFs if necessary\n",
    "    if eigvecs[length(data) // 2, 1] < 0\n",
    "        EOF = -eigvecs\n",
    "    else\n",
    "        EOF = eigvecs\n",
    "    end\n",
    "\n",
    "    # Normalize eigenvectors (optional, based on your use case)\n",
    "    # EOF = (EOF .- mean(EOF, dims=1)) ./ std(EOF, dims=1)\n",
    "\n",
    "    # Project data onto principal components\n",
    "    PC = eigvecs' * data\n",
    "    return ExpVar, EOF, PC\n",
    "end"
   ]
  },
  {
   "cell_type": "markdown",
   "id": "e24ef96c-ab74-48d6-9a03-db06ceb16fa9",
   "metadata": {},
   "source": [
    "## Load data\n"
   ]
  },
  {
   "cell_type": "code",
   "execution_count": 3,
   "id": "e56c8af5-92b1-4e29-95c0-342a6f6a0ff5",
   "metadata": {
    "execution": {
     "iopub.execute_input": "2024-12-11T16:16:30.976",
     "iopub.status.busy": "2024-12-11T16:16:30.976",
     "iopub.status.idle": "2024-12-11T16:16:31.345",
     "shell.execute_reply": "2024-12-11T16:16:31.345"
    }
   },
   "outputs": [],
   "source": [
    "filename = \"/work/b11209013/2024_Research/MPAS/merged_data/CNTL/q1.nc\"\n",
    "\n",
    "q1_file = Dataset(filename, \"r\");\n",
    "\n",
    "dims::Dict = Dict(\n",
    "  \"lat\" => q1_file[\"lat\"][:],\n",
    "  \"lev\" => q1_file[\"lev\"][:],\n",
    "  \"lon\" => q1_file[\"lon\"][:],\n",
    "  \"time\" => q1_file[\"time\"][:],\n",
    ");\n",
    "\n",
    "lat_cond = findall((dims[\"lat\"] .>= -5) .& (dims[\"lat\"] .<= 5));\n",
    "\n",
    "dims[\"lat\"] = dims[\"lat\"][lat_cond];\n",
    "\n",
    "q1 = q1_file[\"q1\"][:, lat_cond, :, :]; # [lon, lat, lev, time]\n",
    "\n",
    "llon, llat, llev, ltime = size(q1);\n",
    "\n",
    "close(q1_file);\n",
    "\n"
   ]
  },
  {
   "cell_type": "markdown",
   "id": "a9dcc456-8699-45d9-98e2-04d175240a18",
   "metadata": {},
   "source": [
    "## Permute and reshape data\n"
   ]
  },
  {
   "cell_type": "code",
   "execution_count": 4,
   "id": "404d0707-230a-4bb4-8e8f-846060986665",
   "metadata": {
    "execution": {
     "iopub.execute_input": "2024-12-11T16:16:31.345",
     "iopub.status.busy": "2024-12-11T16:16:31.345",
     "iopub.status.idle": "2024-12-11T16:16:31.586",
     "shell.execute_reply": "2024-12-11T16:16:31.585"
    }
   },
   "outputs": [],
   "source": [
    "q1_pm = permutedims(q1, [3, 1, 2, 4]);\n",
    "q1_rs = reshape(q1_pm, (llev, llon*llat*ltime));\n"
   ]
  },
  {
   "cell_type": "markdown",
   "id": "79aedf5e-4b72-48a4-8c43-b81e126c1d04",
   "metadata": {},
   "source": [
    "## EOF/PCA on data\n"
   ]
  },
  {
   "cell_type": "code",
   "execution_count": 5,
   "id": "f2baeb88-0dd3-49bc-890c-a1054acba555",
   "metadata": {
    "execution": {
     "iopub.execute_input": "2024-12-11T16:27:42.194",
     "iopub.status.busy": "2024-12-11T16:27:42.194",
     "iopub.status.idle": "2024-12-11T16:27:43.505",
     "shell.execute_reply": "2024-12-11T16:27:43.505"
    }
   },
   "outputs": [],
   "source": [
    "# scaling data\n",
    "q1_scaled = (q1_rs .- mean(q1_rs, dims=1))./std(q1_rs, dims=1)\n",
    "\n",
    "n_components=2\n",
    "\n",
    "pca = fit(PCA, q1_scaled, maxoutdim=n_components)\n",
    "\n",
    "pcs = transform(pca, q1_scaled)\n",
    "eofs = (eigvecs(pca));"
   ]
  },
  {
   "cell_type": "code",
   "execution_count": 6,
   "id": "c08bef59",
   "metadata": {},
   "outputs": [
    {
     "ename": "LoadError",
     "evalue": "cannot assign a value to imported variable LinearAlgebra.eigvals from module Main",
     "output_type": "error",
     "traceback": [
      "cannot assign a value to imported variable LinearAlgebra.eigvals from module Main",
      "",
      "Stacktrace:",
      " [1] top-level scope",
      "   @ In[6]:3"
     ]
    }
   ],
   "source": [
    "CovMat = (q1_rs * q1_rs') / size(q1_rs, 2)\n",
    "\n",
    "eigvals = eigvals(CovMat)\n",
    "eigvecs = eigvecs(CovMat)"
   ]
  },
  {
   "cell_type": "code",
   "execution_count": null,
   "id": "10e53ee6-7109-468b-934f-f8d12b5310b9",
   "metadata": {
    "execution": {
     "iopub.execute_input": "2024-12-11T16:27:49.008",
     "iopub.status.busy": "2024-12-11T16:27:49.008",
     "iopub.status.idle": "2024-12-11T16:27:49.024",
     "shell.execute_reply": "2024-12-11T16:27:49.024"
    }
   },
   "outputs": [
    {
     "ename": "LoadError",
     "evalue": "type Array has no field arr",
     "output_type": "error",
     "traceback": [
      "type Array has no field arr",
      "",
      "Stacktrace:",
      " [1] getproperty",
      "   @ ./Base.jl:37 [inlined]",
      " [2] EmpOrthFunc(self::Matrix{Float32})",
      "   @ Main ./In[4]:3",
      " [3] top-level scope",
      "   @ In[8]:2"
     ]
    }
   ],
   "source": [
    "plot(eofs[:, 1], dims[\"lev\"])"
   ]
  },
  {
   "cell_type": "code",
   "execution_count": null,
   "id": "7c023f0b-bbe5-42b8-9b3a-ba94f91c69ca",
   "metadata": {},
   "outputs": [],
   "source": []
  }
 ],
 "metadata": {
  "kernelspec": {
   "display_name": "Julia 1.10.2",
   "language": "julia",
   "name": "julia-1.10"
  },
  "language_info": {
   "file_extension": ".jl",
   "mimetype": "application/julia",
   "name": "julia",
   "version": "1.10.2"
  }
 },
 "nbformat": 4,
 "nbformat_minor": 5
}
