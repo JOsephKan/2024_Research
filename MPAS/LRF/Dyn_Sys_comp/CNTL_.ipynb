{
 "cells": [
  {
   "cell_type": "markdown",
   "id": "d562e1df-ca51-4fe4-bebf-cfd8c4f8fce0",
   "metadata": {},
   "source": [
    "# CNTL temperature dynamic system"
   ]
  },
  {
   "cell_type": "markdown",
   "id": "16680569-7033-4256-89c8-c65116f56607",
   "metadata": {},
   "source": [
    "## Import package"
   ]
  },
  {
   "cell_type": "code",
   "execution_count": 1,
   "id": "41566a79-5d7b-4d67-9c1c-ee2a99860034",
   "metadata": {
    "execution": {
     "iopub.execute_input": "2024-11-07T08:19:24.113500Z",
     "iopub.status.busy": "2024-11-07T08:19:24.113408Z",
     "iopub.status.idle": "2024-11-07T08:19:24.349434Z",
     "shell.execute_reply": "2024-11-07T08:19:24.349122Z",
     "shell.execute_reply.started": "2024-11-07T08:19:24.113487Z"
    }
   },
   "outputs": [],
   "source": [
    "import numpy as np\n",
    "import joblib as jl\n",
    "\n",
    "from matplotlib import pyplot as plt"
   ]
  },
  {
   "cell_type": "markdown",
   "id": "8c6d13bd-3226-41b0-9713-d3ebeb696fd7",
   "metadata": {},
   "source": [
    "## Load data"
   ]
  },
  {
   "cell_type": "code",
   "execution_count": 2,
   "id": "4c867b33-1472-4527-8e4a-d40d582697d7",
   "metadata": {
    "execution": {
     "iopub.execute_input": "2024-11-07T08:19:24.350049Z",
     "iopub.status.busy": "2024-11-07T08:19:24.349870Z",
     "iopub.status.idle": "2024-11-07T08:19:24.352523Z",
     "shell.execute_reply": "2024-11-07T08:19:24.352302Z",
     "shell.execute_reply.started": "2024-11-07T08:19:24.350036Z"
    }
   },
   "outputs": [],
   "source": [
    "case  = 'CNTL'\n",
    "fname = f'/home/b11209013/2024_Research/MPAS/LRF/Tseries_file/{case}.joblib'\n",
    "\n",
    "data = jl.load(fname)\n",
    "tpc1 = data['pc1']['t']\n",
    "tpc2 = data['pc2']['t'] # unit in K\n",
    "\n",
    "# time \n",
    "time = np.linspace(0, 32, 33)*0.25 # unit in day"
   ]
  },
  {
   "cell_type": "markdown",
   "id": "9e2545e1-7129-4199-92f7-be22a4adec65",
   "metadata": {},
   "source": [
    "## Compute finite different of the PCs"
   ]
  },
  {
   "cell_type": "markdown",
   "id": "64c64a4c-d263-4ef0-98a2-39e1aaabb227",
   "metadata": {},
   "source": [
    "### Compute the derivartive of the PC time series"
   ]
  },
  {
   "cell_type": "code",
   "execution_count": 3,
   "id": "745d8db9-117f-4495-bbb2-0c186df6cb43",
   "metadata": {
    "execution": {
     "iopub.execute_input": "2024-11-07T08:19:24.353250Z",
     "iopub.status.busy": "2024-11-07T08:19:24.353107Z",
     "iopub.status.idle": "2024-11-07T08:19:24.354894Z",
     "shell.execute_reply": "2024-11-07T08:19:24.354675Z",
     "shell.execute_reply.started": "2024-11-07T08:19:24.353239Z"
    }
   },
   "outputs": [],
   "source": [
    "tpc1_dt = np.gradient(tpc1, time, edge_order=2) # unit in K/day\n",
    "tpc2_dt = np.gradient(tpc2, time, edge_order=2)"
   ]
  },
  {
   "cell_type": "markdown",
   "id": "b26bf844-03be-4226-a562-709472926090",
   "metadata": {},
   "source": [
    "## Constructing dynamic system"
   ]
  },
  {
   "cell_type": "code",
   "execution_count": 4,
   "id": "43da1c90-ae51-476b-a594-93f1fdf4b13a",
   "metadata": {
    "execution": {
     "iopub.execute_input": "2024-11-07T08:19:24.355309Z",
     "iopub.status.busy": "2024-11-07T08:19:24.355221Z",
     "iopub.status.idle": "2024-11-07T08:19:24.357774Z",
     "shell.execute_reply": "2024-11-07T08:19:24.357485Z",
     "shell.execute_reply.started": "2024-11-07T08:19:24.355299Z"
    }
   },
   "outputs": [
    {
     "name": "stdout",
     "output_type": "stream",
     "text": [
      "[[-0.66922963 -1.26279958]\n",
      " [ 0.82966373  0.68519988]]\n"
     ]
    }
   ],
   "source": [
    "t_tend = np.stack([tpc1_dt, tpc2_dt], axis=0)\n",
    "t_vec  = np.stack([tpc1, tpc2], axis=0)\n",
    "\n",
    "M  = (t_tend @ t_vec.T) @ np.linalg.inv(t_vec @ t_vec.T) # unit in 1/day\n",
    "\n",
    "print(M)"
   ]
  },
  {
   "cell_type": "markdown",
   "id": "6ad1b8c2-ce7e-4735-a9bf-f5cfe0e42032",
   "metadata": {},
   "source": [
    "## Check the correctness of the growth rate"
   ]
  },
  {
   "cell_type": "code",
   "execution_count": 5,
   "id": "d3b89050-4f56-40af-a1da-23fa2b5277cf",
   "metadata": {
    "execution": {
     "iopub.execute_input": "2024-11-07T08:19:24.358300Z",
     "iopub.status.busy": "2024-11-07T08:19:24.358178Z",
     "iopub.status.idle": "2024-11-07T08:19:24.362366Z",
     "shell.execute_reply": "2024-11-07T08:19:24.362149Z",
     "shell.execute_reply.started": "2024-11-07T08:19:24.358289Z"
    }
   },
   "outputs": [
    {
     "name": "stdout",
     "output_type": "stream",
     "text": [
      "Averaged Growth Rate of the CCKWs at M1 over Filtered:  -8.2764703206269\n",
      "Averaged Growth Rate of the CCKWs at M2 over Filtered:  0.30771123060855854\n"
     ]
    }
   ],
   "source": [
    "sigma = jl.load(f'sigma/{case}.joblib')\n",
    "\n",
    "wn = np.linspace(-359, 360, 720)\n",
    "fr = np.linspace(1/30, 2, 60)\n",
    "\n",
    "wnm, frm = np.meshgrid(wn, fr)\n",
    "\n",
    "kel_curves = lambda ed, k: (86400/(2*np.pi*6.371e6))*np.sqrt(9.81*ed)*k\n",
    "\n",
    "cond = (\n",
    "    (wnm >= 1) & (wnm < 14) &\n",
    "    (frm >= 1/20) & (frm <= 1/2.5) &\n",
    "    (frm <= kel_curves(90, wnm)) & (frm >= kel_curves(8, wnm))\n",
    ")\n",
    "\n",
    "sigma_filted = {\n",
    "    'pc1': np.where(cond, sigma['pc1'], np.nan),\n",
    "    'pc2': np.where(cond, sigma['pc2'], np.nan)\n",
    "}\n",
    "print('Averaged Growth Rate of the CCKWs at M1 over Filtered: ', np.nanmean(sigma_filted['pc1']))\n",
    "print('Averaged Growth Rate of the CCKWs at M2 over Filtered: ', np.nanmean(sigma_filted['pc2']))"
   ]
  },
  {
   "cell_type": "markdown",
   "id": "ba910eac-e646-495e-87f0-a7e240ddfb7c",
   "metadata": {},
   "source": [
    "## Computing e-folding time scale"
   ]
  },
  {
   "cell_type": "code",
   "execution_count": 6,
   "id": "1fc1de78-fac6-4548-997d-e3a7654880de",
   "metadata": {
    "execution": {
     "iopub.execute_input": "2024-11-07T08:19:24.362786Z",
     "iopub.status.busy": "2024-11-07T08:19:24.362667Z",
     "iopub.status.idle": "2024-11-07T08:19:24.365198Z",
     "shell.execute_reply": "2024-11-07T08:19:24.364979Z",
     "shell.execute_reply.started": "2024-11-07T08:19:24.362776Z"
    }
   },
   "outputs": [
    {
     "name": "stdout",
     "output_type": "stream",
     "text": [
      "Eigenvalue of the LIM: \n",
      " [0.00798512+0.76751495j 0.00798512-0.76751495j]\n",
      "Eigenvectors of the LIM: \n",
      " [[ 0.776852  +0.j          0.776852  -0.j        ]\n",
      " [-0.41661056-0.47216164j -0.41661056+0.47216164j]]\n",
      "\n",
      "\n",
      "Growth/Decay time of CCKW:  125.23285500394046\n",
      "Period of CCKW:  8.186401244430467\n"
     ]
    }
   ],
   "source": [
    "eigvals, eigvec = np.linalg.eig(M)\n",
    "print('Eigenvalue of the LIM: \\n', eigvals)\n",
    "print('Eigenvectors of the LIM: \\n', eigvec)\n",
    "\n",
    "# growth/decay time\n",
    "gd_time = 1/np.real(eigvals)\n",
    "period  = 2*np.pi / np.imag(eigvals)\n",
    "print('\\n')\n",
    "print('Growth/Decay time of CCKW: ', gd_time[0])\n",
    "print('Period of CCKW: ', period[0])"
   ]
  }
 ],
 "metadata": {
  "kernelspec": {
   "display_name": "Python 3 (ipykernel)",
   "language": "python",
   "name": "python3"
  },
  "language_info": {
   "codemirror_mode": {
    "name": "ipython",
    "version": 3
   },
   "file_extension": ".py",
   "mimetype": "text/x-python",
   "name": "python",
   "nbconvert_exporter": "python",
   "pygments_lexer": "ipython3",
   "version": "3.10.15"
  }
 },
 "nbformat": 4,
 "nbformat_minor": 5
}
