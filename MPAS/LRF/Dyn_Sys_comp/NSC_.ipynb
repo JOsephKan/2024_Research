{
 "cells": [
  {
   "cell_type": "markdown",
   "id": "d562e1df-ca51-4fe4-bebf-cfd8c4f8fce0",
   "metadata": {},
   "source": [
    "# CNTL temperature dynamic system"
   ]
  },
  {
   "cell_type": "markdown",
   "id": "16680569-7033-4256-89c8-c65116f56607",
   "metadata": {},
   "source": [
    "## Import package"
   ]
  },
  {
   "cell_type": "code",
   "execution_count": 1,
   "id": "41566a79-5d7b-4d67-9c1c-ee2a99860034",
   "metadata": {
    "execution": {
     "iopub.execute_input": "2024-11-07T06:19:48.575466Z",
     "iopub.status.busy": "2024-11-07T06:19:48.575332Z",
     "iopub.status.idle": "2024-11-07T06:19:48.785332Z",
     "shell.execute_reply": "2024-11-07T06:19:48.784968Z",
     "shell.execute_reply.started": "2024-11-07T06:19:48.575453Z"
    }
   },
   "outputs": [],
   "source": [
    "import numpy as np\n",
    "import joblib as jl\n",
    "\n",
    "from matplotlib import pyplot as plt"
   ]
  },
  {
   "cell_type": "markdown",
   "id": "8c6d13bd-3226-41b0-9713-d3ebeb696fd7",
   "metadata": {},
   "source": [
    "## Load data"
   ]
  },
  {
   "cell_type": "code",
   "execution_count": 2,
   "id": "4c867b33-1472-4527-8e4a-d40d582697d7",
   "metadata": {
    "execution": {
     "iopub.execute_input": "2024-11-07T06:19:48.785903Z",
     "iopub.status.busy": "2024-11-07T06:19:48.785759Z",
     "iopub.status.idle": "2024-11-07T06:19:48.788383Z",
     "shell.execute_reply": "2024-11-07T06:19:48.788164Z",
     "shell.execute_reply.started": "2024-11-07T06:19:48.785891Z"
    }
   },
   "outputs": [],
   "source": [
    "case  = 'NSC'\n",
    "fname = f'/home/b11209013/2024_Research/MPAS/LRF/Tseries_file/{case}.joblib'\n",
    "\n",
    "data = jl.load(fname)\n",
    "tpc1 = data['pc1']['t']\n",
    "tpc2 = data['pc2']['t'] # unit in K\n",
    "\n",
    "# time \n",
    "time = np.linspace(0, 32, 33)*0.25 # unit in day"
   ]
  },
  {
   "cell_type": "markdown",
   "id": "9e2545e1-7129-4199-92f7-be22a4adec65",
   "metadata": {},
   "source": [
    "## Compute finite different of the PCs"
   ]
  },
  {
   "cell_type": "markdown",
   "id": "50d07258-57f0-4644-b846-266c6919d950",
   "metadata": {},
   "source": [
    "### Functions"
   ]
  },
  {
   "cell_type": "code",
   "execution_count": 3,
   "id": "628c1def-973a-4336-bf2d-3c6c253219b0",
   "metadata": {
    "execution": {
     "iopub.execute_input": "2024-11-07T06:19:48.788835Z",
     "iopub.status.busy": "2024-11-07T06:19:48.788691Z",
     "iopub.status.idle": "2024-11-07T06:19:48.790851Z",
     "shell.execute_reply": "2024-11-07T06:19:48.790632Z",
     "shell.execute_reply.started": "2024-11-07T06:19:48.788825Z"
    }
   },
   "outputs": [],
   "source": [
    "def finite_difference(t_series, time):\n",
    "    t_derv = np.empty_like(t_series)\n",
    "\n",
    "    t_derv[0]    = (t_series[1]  - t_series[0])   / (time[1]      - time[0])\n",
    "    t_derv[-1]   = (t_series[-1] - t_series[-2])  / (time[-1]     - time[-2])\n",
    "    t_derv[1:-1] = (t_series[2:] - t_series[:-2]) / (t_series[2:] - t_series[:-2])\n",
    "\n",
    "    return t_derv"
   ]
  },
  {
   "cell_type": "markdown",
   "id": "64c64a4c-d263-4ef0-98a2-39e1aaabb227",
   "metadata": {},
   "source": [
    "### Compute the derivartive of the PC time series"
   ]
  },
  {
   "cell_type": "code",
   "execution_count": 4,
   "id": "745d8db9-117f-4495-bbb2-0c186df6cb43",
   "metadata": {
    "execution": {
     "iopub.execute_input": "2024-11-07T06:19:48.791307Z",
     "iopub.status.busy": "2024-11-07T06:19:48.791146Z",
     "iopub.status.idle": "2024-11-07T06:19:48.792874Z",
     "shell.execute_reply": "2024-11-07T06:19:48.792655Z",
     "shell.execute_reply.started": "2024-11-07T06:19:48.791297Z"
    }
   },
   "outputs": [],
   "source": [
    "tpc1_dt = np.gradient(tpc1, time, edge_order=2) # unit in K/day\n",
    "tpc2_dt = np.gradient(tpc2, time, edge_order=2)"
   ]
  },
  {
   "cell_type": "markdown",
   "id": "b26bf844-03be-4226-a562-709472926090",
   "metadata": {},
   "source": [
    "## Constructing dynamic system"
   ]
  },
  {
   "cell_type": "code",
   "execution_count": 5,
   "id": "43da1c90-ae51-476b-a594-93f1fdf4b13a",
   "metadata": {
    "execution": {
     "iopub.execute_input": "2024-11-07T06:19:48.793379Z",
     "iopub.status.busy": "2024-11-07T06:19:48.793218Z",
     "iopub.status.idle": "2024-11-07T06:19:48.795669Z",
     "shell.execute_reply": "2024-11-07T06:19:48.795457Z",
     "shell.execute_reply.started": "2024-11-07T06:19:48.793368Z"
    }
   },
   "outputs": [
    {
     "name": "stdout",
     "output_type": "stream",
     "text": [
      "[[-1.32216952 -2.93930543]\n",
      " [ 1.40931648  1.34298008]]\n"
     ]
    }
   ],
   "source": [
    "t_tend = np.stack([tpc1_dt, tpc2_dt], axis=0)\n",
    "t_vec  = np.stack([tpc1, tpc2], axis=0)\n",
    "\n",
    "M  = (t_tend @ t_vec.T) @ np.linalg.inv(t_vec @ t_vec.T) # unit in 1/day\n",
    "\n",
    "print(M)"
   ]
  },
  {
   "cell_type": "markdown",
   "id": "ba910eac-e646-495e-87f0-a7e240ddfb7c",
   "metadata": {},
   "source": [
    "## Computing e-folding time scale"
   ]
  },
  {
   "cell_type": "code",
   "execution_count": 6,
   "id": "1fc1de78-fac6-4548-997d-e3a7654880de",
   "metadata": {
    "execution": {
     "iopub.execute_input": "2024-11-07T06:19:48.796450Z",
     "iopub.status.busy": "2024-11-07T06:19:48.796299Z",
     "iopub.status.idle": "2024-11-07T06:19:48.798865Z",
     "shell.execute_reply": "2024-11-07T06:19:48.798640Z",
     "shell.execute_reply.started": "2024-11-07T06:19:48.796439Z"
    }
   },
   "outputs": [
    {
     "name": "stdout",
     "output_type": "stream",
     "text": [
      "Eigenvalue of the LIM: \n",
      " [0.01040528+1.53839397j 0.01040528-1.53839397j]\n",
      "Eigenvectors of the LIM: \n",
      " [[ 0.82214143+0.j          0.82214143-0.j        ]\n",
      " [-0.3727292 -0.43029806j -0.3727292 +0.43029806j]]\n",
      "\n",
      "\n",
      "Growth/Decay time of CCKW:  96.10504580578448\n",
      "Period of CCKW:  4.084249835646343\n"
     ]
    }
   ],
   "source": [
    "eigvals, eigvec = np.linalg.eig(M)\n",
    "print('Eigenvalue of the LIM: \\n', eigvals)\n",
    "print('Eigenvectors of the LIM: \\n', eigvec)\n",
    "\n",
    "# growth/decay time\n",
    "gd_time = 1/np.real(eigvals)\n",
    "period  = 2*np.pi / np.imag(eigvals)\n",
    "print('\\n')\n",
    "print('Growth/Decay time of CCKW: ', gd_time[0])\n",
    "print('Period of CCKW: ', period[0])"
   ]
  }
 ],
 "metadata": {
  "kernelspec": {
   "display_name": "Python 3 (ipykernel)",
   "language": "python",
   "name": "python3"
  },
  "language_info": {
   "codemirror_mode": {
    "name": "ipython",
    "version": 3
   },
   "file_extension": ".py",
   "mimetype": "text/x-python",
   "name": "python",
   "nbconvert_exporter": "python",
   "pygments_lexer": "ipython3",
   "version": "3.10.15"
  }
 },
 "nbformat": 4,
 "nbformat_minor": 5
}
