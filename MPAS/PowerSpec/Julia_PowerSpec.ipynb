{
 "cells": [
  {
   "cell_type": "markdown",
   "id": "e010b44a-d782-419b-ac17-1ee338592f4d",
   "metadata": {},
   "source": [
    "## EOF Power spectrum with Julia"
   ]
  },
  {
   "cell_type": "markdown",
   "id": "82570b22-bd2d-40e3-8393-d53c3457de49",
   "metadata": {},
   "source": [
    "## import package"
   ]
  },
  {
   "cell_type": "code",
   "execution_count": 1,
   "id": "9cf8d6a1-08ff-4e63-9585-b4f1e552054a",
   "metadata": {
    "execution": {
     "iopub.execute_input": "2024-12-16T16:22:05.255",
     "iopub.status.busy": "2024-12-16T16:22:04.970",
     "iopub.status.idle": "2024-12-16T16:22:06.433",
     "shell.execute_reply": "2024-12-16T16:22:06.400"
    }
   },
   "outputs": [],
   "source": [
    "using DSP\n",
    "using Plots\n",
    "using NCDatasets\n",
    "using LazyGrids\n",
    "using Statistics\n",
    "using FFTW\n",
    "using LinearAlgebra\n",
    "using DataStructures"
   ]
  },
  {
   "cell_type": "markdown",
   "id": "d61bc82d-d3ac-4ba1-b790-dbe0056c3fbe",
   "metadata": {},
   "source": [
    "## Load data"
   ]
  },
  {
   "cell_type": "code",
   "execution_count": 2,
   "id": "edf89910-ff47-4ab4-a502-cc8ef8782392",
   "metadata": {
    "execution": {
     "iopub.execute_input": "2024-12-16T16:22:06.579",
     "iopub.status.busy": "2024-12-16T16:22:06.433",
     "iopub.status.idle": "2024-12-16T16:22:10.900",
     "shell.execute_reply": "2024-12-16T16:22:10.900"
    }
   },
   "outputs": [
    {
     "name": "stdout",
     "output_type": "stream",
     "text": [
      "[\"q1\", \"rqvcuten\", \"sw\", \"cu\", \"t\", \"lw\", \"qv\"]\n"
     ]
    }
   ],
   "source": [
    "path::String = \"/work/b11209013/2024_Research/MPAS/PC/CNTL_PC.nc\"\n",
    "\n",
    "dims = Dict{String, Array}()\n",
    "data = Dict{String, Array}()\n",
    "\n",
    "NCDataset(path, \"r\") do ds\n",
    "    for key in keys(ds.dim)\n",
    "        dims[key] = ds[key]\n",
    "    end\n",
    "\n",
    "    for key in keys(ds)\n",
    "        if key in keys(dims)\n",
    "            continue\n",
    "        else\n",
    "            data[key] = permutedims(ds[key][:, :, :, 1] + ds[key][:, :, :, 2], (3, 2, 1))\n",
    "        end\n",
    "    end\n",
    "end\n",
    "\n",
    "println(keys(data))"
   ]
  },
  {
   "cell_type": "markdown",
   "id": "ac9ecea7-9690-4d3e-a20b-c3cb456c9283",
   "metadata": {},
   "source": [
    "## Processing data"
   ]
  },
  {
   "cell_type": "markdown",
   "id": "edf6166d-13d3-421c-bc83-afeb357c3fde",
   "metadata": {},
   "source": [
    "### Symmetrize"
   ]
  },
  {
   "cell_type": "code",
   "execution_count": 3,
   "id": "1a5a7aa1-b006-4db6-91fe-cf0e7b6b9a73",
   "metadata": {
    "execution": {
     "iopub.execute_input": "2024-12-16T16:22:10.900",
     "iopub.status.busy": "2024-12-16T16:22:10.900",
     "iopub.status.idle": "2024-12-16T16:22:13.675",
     "shell.execute_reply": "2024-12-16T16:22:13.675"
    },
    "scrolled": true
   },
   "outputs": [
    {
     "data": {
      "text/plain": [
       "720×376 Matrix{Float64}:\n",
       "   87.3147  -258.391     52.6443  …  -512.009   -258.105    319.557\n",
       "   18.7925  -289.056    -27.7256     -573.987   -209.103    298.17\n",
       "  139.355   -276.831   -225.256      -708.154   -292.504     97.2858\n",
       "  179.19    -236.833   -476.881      -858.546   -314.19    -141.049\n",
       "  229.177   -284.068   -660.139      -657.519   -205.003   -117.454\n",
       "  327.522   -352.688   -683.048   …  -487.526   -148.0      -18.7775\n",
       "  250.399   -354.213   -608.835      -472.557   -309.093    -45.1536\n",
       "  -18.8471  -317.499   -603.229      -463.448   -579.552   -122.143\n",
       " -188.329   -276.162   -629.418      -411.891   -576.3     -257.666\n",
       " -228.857   -244.377   -456.41       -282.039   -485.754   -604.828\n",
       " -191.814   -330.052   -203.009   …   -67.782   -584.809   -838.118\n",
       " -130.683   -356.586   -117.078       162.309   -744.032   -727.378\n",
       " -216.112   -341.701   -105.218       413.237   -764.155   -535.897\n",
       "    ⋮                             ⋱                           ⋮\n",
       "  276.186   -327.378   -282.833       404.303    104.373   -165.478\n",
       "  153.008   -318.913   -337.25        517.564    149.614     12.5226\n",
       "  -15.9796  -230.388   -390.983   …   371.565    164.745    -73.9215\n",
       " -170.933   -105.269   -516.545       244.9      236.086   -207.331\n",
       " -274.641     90.1334  -500.235       254.892    246.881   -308.114\n",
       " -413.564    100.402   -304.931       265.313    110.093   -299.628\n",
       " -484.777    -47.9345  -245.791       240.107    111.715    -96.6902\n",
       " -372.077    -71.6733  -207.513   …   147.682     68.8868   127.238\n",
       " -231.235     24.913    -20.5604      -18.1396   -88.6259   347.833\n",
       "  -67.5539    11.5904   187.31       -127.852   -172.277    587.137\n",
       "  137.131   -199.741    210.436       -91.4921  -164.527    660.098\n",
       "  222.739   -346.89     105.842      -259.007   -263.18     456.939"
      ]
     },
     "execution_count": 3,
     "metadata": {},
     "output_type": "execute_result"
    }
   ],
   "source": [
    "function sym(\n",
    "        lat::Array{Float64, 1},\n",
    "        arr::Array{Float64, 3}\n",
    ")\n",
    "    latr:: Array{Float64, 1} = cos.(deg2rad.(lat))[1, :, 1];\n",
    "    lats:: Float64           = sum(latr)\n",
    "\n",
    "    sym_arr :: Array{Float64, 2} = dropdims(sum(arr .* latr, dims=2) / lats, dims=2)\n",
    "    \n",
    "    return sym_arr\n",
    "end\n",
    "\n",
    "function asy(\n",
    "        lat::Array{Float64, 1},\n",
    "        arr::Array{Float64, 3}\n",
    ")\n",
    "    latr:: Array{Float64, 1} = cos.(deg2rad.(lat))[1, :, 1];\n",
    "    lats:: Float64           = sum(latr)\n",
    "\n",
    "    data_asy::Array{Float64, 3} = arr .* latr\n",
    "    data_asy[:, lat .< 0, :] *= -1\n",
    "\n",
    "    data_asy_dropdims::Array{Float64, 2} = dropdims(sum(data_asy, dims=2)/lats, dims=2)\n",
    "    return data_asy_dropdims\n",
    "end\n",
    "\n",
    "q1_sym::Array{Float64, 2}=sym(dims[\"lat\"], data[\"q1\"])\n",
    "q1_asy::Array{Float64, 2}=asy(dims[\"lat\"], data[\"q1\"])"
   ]
  },
  {
   "cell_type": "markdown",
   "id": "af2fddf4-5e56-47f2-a461-9bb454c80974",
   "metadata": {
    "scrolled": true
   },
   "source": [
    "### Windowing"
   ]
  },
  {
   "cell_type": "code",
   "execution_count": 4,
   "id": "1ab95eed-b7f5-4eb1-ba62-e131acc76055",
   "metadata": {
    "execution": {
     "iopub.execute_input": "2024-12-16T16:22:13.675",
     "iopub.status.busy": "2024-12-16T16:22:13.675",
     "iopub.status.idle": "2024-12-16T16:22:14.091",
     "shell.execute_reply": "2024-12-16T16:22:14.091"
    }
   },
   "outputs": [],
   "source": [
    "window_size::Float64 = 120.\n",
    "\n",
    "taper::Array{Float64, 1} = hanning(120)\n",
    "\n",
    "sym_window = stack(map(i -> q1_sym[:, (i-1)*60+1:(i-1)*60+120] .* taper[1, :], 1:5));\n",
    "asy_window = stack(map(i -> q1_asy[:, (i-1)*60+1:(i-1)*60+120] .* taper[1, :], 1:5));"
   ]
  },
  {
   "cell_type": "markdown",
   "id": "ed1b1957-a526-461f-9284-036197b434ac",
   "metadata": {},
   "source": [
    "## Power Spectrum"
   ]
  },
  {
   "cell_type": "code",
   "execution_count": 15,
   "id": "91654ec9-7480-4b0a-a25d-f387357ff5ea",
   "metadata": {
    "execution": {
     "iopub.execute_input": "2024-12-16T16:23:43.150",
     "iopub.status.busy": "2024-12-16T16:23:43.150",
     "iopub.status.idle": "2024-12-16T16:23:43.152",
     "shell.execute_reply": "2024-12-16T16:23:43.152"
    }
   },
   "outputs": [
    {
     "name": "stdout",
     "output_type": "stream",
     "text": [
      "(120,)\n"
     ]
    },
    {
     "data": {
      "text/plain": [
       "power_spec (generic function with 1 method)"
      ]
     },
     "execution_count": 15,
     "metadata": {},
     "output_type": "execute_result"
    }
   ],
   "source": [
    "wn::Array{Float64, 1} = fftfreq(size(sym_window, 1))\n",
    "fr::Array{Float64, 1} = fftfreq(Int(window_size), 4)\n",
    "println(size(fr))\n",
    "frm, wnm = ndgrid(fr, wn)\n",
    "\n",
    "function power_spec(\n",
    "        data::Array{Float64, 3}\n",
    ")\n",
    "    data_fft::Array{ComplexF64, 3} = mapslices(fft, data; dims=1)\n",
    "    data_fft = mapslices(ifft, data; dims=2)\n",
    "\n",
    "    ps::Array{Float64 ,2} = (dropdims(mean(data_fft .* conj(data_fft), dims=3), dims=3))\n",
    "\n",
    "    ps /= prod(size(ps))\n",
    "\n",
    "    return log.(fftshift(ps))\n",
    "end\n",
    "\n"
   ]
  },
  {
   "cell_type": "code",
   "execution_count": 16,
   "id": "32e9afb0-559b-4155-a50c-a5b0e5551b65",
   "metadata": {
    "execution": {
     "iopub.execute_input": "2024-12-16T16:23:44.798",
     "iopub.status.busy": "2024-12-16T16:23:44.798",
     "iopub.status.idle": "2024-12-16T16:23:46.184",
     "shell.execute_reply": "2024-12-16T16:23:46.184"
    }
   },
   "outputs": [
    {
     "data": {},
     "execution_count": 16,
     "metadata": {},
     "output_type": "execute_result"
    }
   ],
   "source": [
    "sym_ps = power_spec(sym_window)\n",
    "contourf(fftshift(wn), fftshift(fr), sym_ps')"
   ]
  },
  {
   "cell_type": "code",
   "execution_count": null,
   "id": "fd0c0f4c-5fe1-412d-aae9-ff7600186bb7",
   "metadata": {},
   "outputs": [],
   "source": []
  }
 ],
 "metadata": {
  "kernelspec": {
   "display_name": "Julia 1.10.2",
   "language": "julia",
   "name": "julia-1.10"
  },
  "language_info": {
   "file_extension": ".jl",
   "mimetype": "application/julia",
   "name": "julia",
   "version": "1.10.2"
  }
 },
 "nbformat": 4,
 "nbformat_minor": 5
}
