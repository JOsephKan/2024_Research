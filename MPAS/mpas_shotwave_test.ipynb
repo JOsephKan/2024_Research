{
 "cells": [
  {
   "cell_type": "markdown",
   "id": "42c7a87c-92d3-4bc0-a354-ac4634cd6652",
   "metadata": {},
   "source": [
    "# Raw compositing "
   ]
  },
  {
   "cell_type": "markdown",
   "id": "f46bb0c4-d03d-4a4a-ba1a-9090ad6a5dc7",
   "metadata": {
    "execution": {
     "iopub.execute_input": "2024-12-19T06:02:43.906159Z",
     "iopub.status.busy": "2024-12-19T06:02:43.905844Z",
     "iopub.status.idle": "2024-12-19T06:02:43.908182Z",
     "shell.execute_reply": "2024-12-19T06:02:43.907945Z",
     "shell.execute_reply.started": "2024-12-19T06:02:43.906143Z"
    }
   },
   "source": [
    "## Load package"
   ]
  },
  {
   "cell_type": "code",
   "execution_count": 9,
   "id": "490eb053-8194-4a2a-b1e6-2c5162621367",
   "metadata": {
    "execution": {
     "iopub.execute_input": "2024-12-19T11:35:35.374863Z",
     "iopub.status.busy": "2024-12-19T11:35:35.374662Z",
     "iopub.status.idle": "2024-12-19T11:35:35.617909Z",
     "shell.execute_reply": "2024-12-19T11:35:35.617599Z",
     "shell.execute_reply.started": "2024-12-19T11:35:35.374849Z"
    }
   },
   "outputs": [],
   "source": [
    "import numpy as np;\n",
    "import netCDF4 as nc;\n",
    "\n",
    "from joblib     import Parallel, delayed;\n",
    "\n",
    "from matplotlib import gridspec;\n",
    "from matplotlib import pyplot as plt;\n",
    "from matplotlib.colors import TwoSlopeNorm;\n",
    "from mpl_toolkits.axes_grid1.inset_locator import inset_axes;"
   ]
  },
  {
   "cell_type": "markdown",
   "id": "c4e563c4-3aaf-4f98-8fe2-9689590487bf",
   "metadata": {},
   "source": [
    "## Functions"
   ]
  },
  {
   "cell_type": "markdown",
   "id": "66793b15-4db4-45f9-a71d-3df42b07ebc2",
   "metadata": {},
   "source": [
    "### Load data"
   ]
  },
  {
   "cell_type": "code",
   "execution_count": 10,
   "id": "f691c40a-3fc8-4d9d-a5bc-c4412d4d08ab",
   "metadata": {
    "execution": {
     "iopub.execute_input": "2024-12-19T11:35:35.618479Z",
     "iopub.status.busy": "2024-12-19T11:35:35.618330Z",
     "iopub.status.idle": "2024-12-19T11:35:35.620706Z",
     "shell.execute_reply": "2024-12-19T11:35:35.620483Z",
     "shell.execute_reply.started": "2024-12-19T11:35:35.618467Z"
    }
   },
   "outputs": [],
   "source": [
    "def load_data(\n",
    "    path: str,\n",
    "    var : str,\n",
    "    lim : list[int],\n",
    ") -> np.ndarray:\n",
    "    with nc.Dataset(f\"{path}{var}.nc\", \"r\") as f:\n",
    "        data = f.variables[var][:, :, lim, :].mean(axis=2)\n",
    "        return var, data"
   ]
  },
  {
   "cell_type": "markdown",
   "id": "bc5579b2-fab0-4e7e-90ff-663eacbb2006",
   "metadata": {
    "execution": {
     "iopub.execute_input": "2024-12-19T06:03:30.849295Z",
     "iopub.status.busy": "2024-12-19T06:03:30.848835Z",
     "iopub.status.idle": "2024-12-19T06:03:30.851041Z",
     "shell.execute_reply": "2024-12-19T06:03:30.850811Z",
     "shell.execute_reply.started": "2024-12-19T06:03:30.849277Z"
    }
   },
   "source": [
    "## Load data"
   ]
  },
  {
   "cell_type": "code",
   "execution_count": 11,
   "id": "820e2e8d-0561-4d0e-9f0e-46914b1eb532",
   "metadata": {
    "execution": {
     "iopub.execute_input": "2024-12-19T11:35:35.623426Z",
     "iopub.status.busy": "2024-12-19T11:35:35.623335Z",
     "iopub.status.idle": "2024-12-19T11:36:40.862478Z",
     "shell.execute_reply": "2024-12-19T11:36:40.862000Z",
     "shell.execute_reply.started": "2024-12-19T11:35:35.623417Z"
    },
    "scrolled": true
   },
   "outputs": [],
   "source": [
    "# experiment name\n",
    "exp_name: str = \"NCRF\"\n",
    "\n",
    "# load MPAs soruced data\n",
    "path    : str       = f\"/work/b11209013/2024_Research/MPAS/merged_data/{exp_name}/\";\n",
    "\n",
    "var_list: list[str] = [\n",
    "    \"q1\", \"qv\", \"theta\",\n",
    "    \"rthcuten\", \"rthratenlw\", \"rthratensw\"\n",
    "];\n",
    "\n",
    "## load dimension\n",
    "dims: dict[str, np.ndarray] = dict()\n",
    "\n",
    "with nc.Dataset(f\"{path}{var_list[0]}.nc\", \"r\") as f:\n",
    "    for key in f.dimensions.items():\n",
    "        dims[key[0]] = f.variables[key[0]][:];\n",
    "\n",
    "### limit the latitude within -5~5\n",
    "lat_lim: list[int] = np.where((dims[\"lat\"] >= -5.) & (dims[\"lat\"] <= 5.))[0]\n",
    "dims[\"lat\"] = dims[\"lat\"][lat_lim]\n",
    "\n",
    "## load variables\n",
    "data: dict[str, np.ndarray] = dict(\n",
    "    Parallel(n_jobs=-1)(\n",
    "        delayed(load_data)(path, var, lat_lim)\n",
    "        for var in var_list\n",
    "    )\n",
    ")"
   ]
  },
  {
   "cell_type": "markdown",
   "id": "35bee358-9b75-41e5-b5ba-2ca082bfb92d",
   "metadata": {},
   "source": [
    "## Unit conversion"
   ]
  },
  {
   "cell_type": "code",
   "execution_count": 12,
   "id": "4c3f4406-ba62-48e3-bfb6-64bd3977037b",
   "metadata": {
    "execution": {
     "iopub.execute_input": "2024-12-19T11:36:40.863251Z",
     "iopub.status.busy": "2024-12-19T11:36:40.863134Z",
     "iopub.status.idle": "2024-12-19T11:36:41.142707Z",
     "shell.execute_reply": "2024-12-19T11:36:41.142237Z",
     "shell.execute_reply.started": "2024-12-19T11:36:40.863240Z"
    }
   },
   "outputs": [],
   "source": [
    "theta2t: np.ndarray = (1000/dims[\"lev\"])[None, :, None] ** (-287.5/1004.5);\n",
    "\n",
    "data_convert: dict[str, np.ndarray] = dict(\n",
    "    t  = data[\"theta\"] * theta2t,              # θ -> temperature\n",
    "    q1 = data[\"q1\"] * 85400/1004.5,            # J/kg/s -> K/day \n",
    "    qv = data[\"qv\"] * 1000,                    # kg/kg -> g/kg\n",
    "    cu = data[\"rthcuten\"] * theta2t * 86400,   # K/s -> K/day\n",
    "    lw = data[\"rthratenlw\"] * theta2t * 86400, # K/s -> day\n",
    "    sw = data[\"rthratensw\"] * theta2t * 86400, # K/s -> K/day\n",
    ");\n",
    "\n",
    "data_convert = {\n",
    "    var: data_convert[var] - data_convert[var].mean(axis=(0, 2))[None, :, None]\n",
    "    for var in data_convert.keys()\n",
    "};"
   ]
  },
  {
   "cell_type": "markdown",
   "id": "fded2ed7-025c-453e-9d9f-4f782b7201f1",
   "metadata": {},
   "source": [
    "## Plot "
   ]
  },
  {
   "cell_type": "markdown",
   "id": "b5fd0276-3094-4858-8692-e0b4b56fcf96",
   "metadata": {},
   "source": [
    "### Plot setting"
   ]
  },
  {
   "cell_type": "code",
   "execution_count": 13,
   "id": "82ced040-523e-4e44-9a11-e47e5aba5233",
   "metadata": {
    "execution": {
     "iopub.execute_input": "2024-12-19T11:36:41.157030Z",
     "iopub.status.busy": "2024-12-19T11:36:41.156844Z",
     "iopub.status.idle": "2024-12-19T11:36:41.158761Z",
     "shell.execute_reply": "2024-12-19T11:36:41.158483Z",
     "shell.execute_reply.started": "2024-12-19T11:36:41.157019Z"
    }
   },
   "outputs": [],
   "source": [
    "plt.rcParams.update({\n",
    "    'font.size': 10,\n",
    "    'figure.titlesize': 16,\n",
    "    'axes.titlesize': 16,\n",
    "    'axes.labelsize': 14,\n",
    "    'font.family': 'serif',\n",
    "})\n"
   ]
  },
  {
   "cell_type": "markdown",
   "id": "2579e081-e98b-4475-804e-2dafd7e0f9aa",
   "metadata": {},
   "source": [
    "### Plotting"
   ]
  },
  {
   "cell_type": "code",
   "execution_count": 14,
   "id": "4266f950",
   "metadata": {},
   "outputs": [
    {
     "name": "stdout",
     "output_type": "stream",
     "text": [
      "(368, 38, 720)\n"
     ]
    },
    {
     "data": {
      "text/plain": [
       "<matplotlib.contour.QuadContourSet at 0x7f4d44634910>"
      ]
     },
     "execution_count": 14,
     "metadata": {},
     "output_type": "execute_result"
    },
    {
     "data": {
      "image/png": "[encoded data removed]",
      "text/plain": [
       "<Figure size 640x480 with 1 Axes>"
      ]
     },
     "metadata": {},
     "output_type": "display_data"
    }
   ],
   "source": [
    "print(data_convert[\"sw\"].shape)\n",
    "\n",
    "plt.contourf(data_convert[\"sw\"][:30, :, 0].T, levels=20)"
   ]
  }
 ],
 "metadata": {
  "kernelspec": {
   "display_name": "atmosci-env",
   "language": "python",
   "name": "python3"
  },
  "language_info": {
   "codemirror_mode": {
    "name": "ipython",
    "version": 3
   },
   "file_extension": ".py",
   "mimetype": "text/x-python",
   "name": "python",
   "nbconvert_exporter": "python",
   "pygments_lexer": "ipython3",
   "version": "3.10.15"
  }
 },
 "nbformat": 4,
 "nbformat_minor": 5
}
