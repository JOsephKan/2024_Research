{
 "cells": [
  {
   "cell_type": "markdown",
   "metadata": {},
   "source": [
    "# Effective DOF test"
   ]
  },
  {
   "cell_type": "markdown",
   "metadata": {},
   "source": [
    "## Import package"
   ]
  },
  {
   "cell_type": "code",
   "execution_count": 1,
   "metadata": {},
   "outputs": [],
   "source": [
    "import numpy as np\n",
    "import netCDF4 as nc"
   ]
  },
  {
   "cell_type": "markdown",
   "metadata": {},
   "source": [
    "## Load data"
   ]
  },
  {
   "cell_type": "code",
   "execution_count": 2,
   "metadata": {},
   "outputs": [],
   "source": [
    "# Load MPAS data\n",
    "## dimension\n",
    "import time\n",
    "\n",
    "\n",
    "dims: dict[str, np.ndarray] = dict()\n",
    "\n",
    "temp: dict[str, np.ndarray] = dict()\n",
    "\n",
    "\n",
    "## variables\n",
    "with nc.Dataset(\"/work/b11209013/2024_Research/MPAS/merged_data/CNTL/theta.nc\", \"r\") as f:\n",
    "    for key in f.dimensions.items():\n",
    "        dims[key[0]] = f.variables[key[0]][:]\n",
    "\n",
    "    lat_lim: list[int] = np.where((dims[\"lat\"][:] >= -5) & (dims[\"lat\"][:] <= 5))[0]\n",
    "\n",
    "    temp[\"CNTL\"] = (f.variables[\"theta\"][:, :, lat_lim, :].mean(axis=2) * (1000/dims[\"lev\"])[None, :, None]**(-0.286)) - 273.15\n",
    "\n",
    "with nc.Dataset(\"/work/b11209013/2024_Research/MPAS/merged_data/NCRF/theta.nc\", \"r\") as f:\n",
    "    temp[\"NCRF\"] = (f.variables[\"theta\"][:, :, lat_lim, :].mean(axis=2) * (1000/dims[\"lev\"])[None, :, None]**(-0.286)) - 273.15\n",
    "\n",
    "# load events\n",
    "lon_ref: dict[str, np.ndarray] = dict()\n",
    "time_ref: dict[str, np.ndarray] = dict()\n",
    "\n",
    "for key in temp.keys():\n",
    "    lon_ref[key], time_ref[key] = np.load(\n",
    "        f\"/home/b11209013/2024_Research/MPAS/Composite/Q1_event_sel/Q1_sel/{key}.npy\"\n",
    "    )\n"
   ]
  },
  {
   "cell_type": "markdown",
   "metadata": {},
   "source": [
    "## Event selection"
   ]
  },
  {
   "cell_type": "markdown",
   "metadata": {},
   "source": [
    "### Time interval setting"
   ]
  },
  {
   "cell_type": "code",
   "execution_count": 5,
   "metadata": {},
   "outputs": [],
   "source": [
    "time_itv: dict[str, np.ndarray] = dict()\n",
    "\n",
    "for key in temp.keys():\n",
    "    time_itv[key] = np.array([\n",
    "        np.linspace(time_ref[key][i]-12, time_ref[key][i]+12, 25)\n",
    "        for i in range(time_ref[key].shape[0])\n",
    "    ])\n",
    "\n",
    "# shape: (events, time_length)"
   ]
  },
  {
   "cell_type": "code",
   "execution_count": 7,
   "metadata": {},
   "outputs": [],
   "source": [
    "temp_sel: dict[str, np.ndarray] = dict()\n",
    "\n",
    "for key in temp.keys():\n",
    "    temp_sel[key] = np.array([\n",
    "        temp[key][time_itv[key][i].astype(int), :, lon_ref[key][i].astype(int)].T\n",
    "        for i in range(time_ref[key].shape[0])\n",
    "    ])\n",
    "\n",
    "# shape: (events, lev, time_length)"
   ]
  },
  {
   "cell_type": "markdown",
   "metadata": {},
   "source": [
    "## Compute effective DOF"
   ]
  },
  {
   "cell_type": "code",
   "execution_count": null,
   "metadata": {},
   "outputs": [],
   "source": [
    "for key in temp_sel.keys():\n",
    "    for i in range(temp_sel[key].shape[0]):\n",
    "        for j in range(temp_sel[key].shape[1]):\n",
    "            temp_sel[key][i, j, :] = temp_sel[key][i, j, :] - temp_sel[key][i, j, 0]"
   ]
  }
 ],
 "metadata": {
  "kernelspec": {
   "display_name": "atmosci-env",
   "language": "python",
   "name": "python3"
  },
  "language_info": {
   "codemirror_mode": {
    "name": "ipython",
    "version": 3
   },
   "file_extension": ".py",
   "mimetype": "text/x-python",
   "name": "python",
   "nbconvert_exporter": "python",
   "pygments_lexer": "ipython3",
   "version": "3.10.15"
  }
 },
 "nbformat": 4,
 "nbformat_minor": 2
}
