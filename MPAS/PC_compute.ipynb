{
 "cells": [
  {
   "cell_type": "markdown",
   "metadata": {},
   "source": [
    "# Compute Principal components from MPAS Experiments"
   ]
  },
  {
   "cell_type": "markdown",
   "metadata": {},
   "source": [
    "##  import package"
   ]
  },
  {
   "cell_type": "code",
   "execution_count": 19,
   "metadata": {},
   "outputs": [],
   "source": [
    "import numpy as np\n",
    "import joblib as jl\n",
    "import netCDF4 as nc\n",
    "from scipy.interpolate import interp1d"
   ]
  },
  {
   "cell_type": "markdown",
   "metadata": {},
   "source": [
    "## functions"
   ]
  },
  {
   "cell_type": "markdown",
   "metadata": {},
   "source": [
    "### load data"
   ]
  },
  {
   "cell_type": "code",
   "execution_count": 20,
   "metadata": {},
   "outputs": [],
   "source": [
    "def load_data(path, var, lim):\n",
    "    \n",
    "    with nc.Dataset(f'{path}{var}.nc', 'r', mmap=True) as f:\n",
    "        data = f.variables[var][:, :, lim, :]\n",
    "\n",
    "    data -= data.mean(axis=0)\n",
    "\n",
    "    return data"
   ]
  },
  {
   "cell_type": "markdown",
   "metadata": {},
   "source": [
    "### normal equation"
   ]
  },
  {
   "cell_type": "code",
   "execution_count": 21,
   "metadata": {},
   "outputs": [],
   "source": [
    "def normal_equation(eof, data):\n",
    "    comp1 = np.linalg.inv(eof.T @ eof)\n",
    "    comp2 = eof.T @ data\n",
    "\n",
    "    return comp1 @ comp2"
   ]
  },
  {
   "cell_type": "markdown",
   "metadata": {},
   "source": [
    "## load data\n"
   ]
  },
  {
   "cell_type": "code",
   "execution_count": 22,
   "metadata": {},
   "outputs": [],
   "source": [
    "# case name\n",
    "case = 'NSC'\n",
    "\n",
    "# file path\n",
    "path  = f'/work/b11209013/2024_Research/MPAS/merged_data/{case}/'\n",
    "\n",
    "# variable list\n",
    "var_list = ['q1', 'theta', 'qv']\n",
    "\n",
    "# load coordinate\n",
    "with nc.Dataset(f'{path}q1.nc', 'r', mmap=True) as f:\n",
    "    lon  = f.variables['lon'][:]\n",
    "    lat  = f.variables['lat'][:]\n",
    "    lev  = f.variables['lev'][:]\n",
    "    time = f.variables['time'][:]\n",
    "\n",
    "lat_lim = np.where((lat >= -5) & (lat <= 5))[0]\n",
    "lat = lat[lat_lim]\n",
    "\n",
    "# load variable\n",
    "data = jl.Parallel(n_jobs=3)(\n",
    "    jl.delayed(load_data)(path, var, lat_lim)\n",
    "    for var in var_list\n",
    ")\n",
    "\n",
    "data = {\n",
    "    var: data[i]\n",
    "    for i, var in enumerate(var_list)\n",
    "}\n",
    "\n",
    "ltime, llev, llat, llon = data['q1'].shape\n",
    "\n",
    "# load EOF data\n",
    "eof = jl.load('/work/b11209013/2024_Research/MPAS/PC/CNTL_EOF.joblib')\n",
    "\n",
    "eof1 = eof[:, 0]\n",
    "eof2 = eof[:, 1]"
   ]
  },
  {
   "cell_type": "markdown",
   "metadata": {},
   "source": [
    "### convert unit"
   ]
  },
  {
   "cell_type": "code",
   "execution_count": 23,
   "metadata": {},
   "outputs": [],
   "source": [
    "data = {\n",
    "    't': data['theta']*(1000/lev[None, :, None, None])**(-0.286),\n",
    "    'q1': data['q1']*86400/1004.5,\n",
    "    'qv': data['qv']*1000,\n",
    "}\n",
    "\n",
    "var_list = data.keys()"
   ]
  },
  {
   "cell_type": "markdown",
   "metadata": {},
   "source": [
    "## Process data"
   ]
  },
  {
   "cell_type": "markdown",
   "metadata": {},
   "source": [
    "### permute and reshape"
   ]
  },
  {
   "cell_type": "code",
   "execution_count": 24,
   "metadata": {},
   "outputs": [],
   "source": [
    "data_pm = {\n",
    "    var: data[var].transpose((1, 0, 2, 3))\n",
    "    for var in var_list\n",
    "}\n",
    "\n",
    "data_rs = {\n",
    "    var: data_pm[var].reshape((llev, -1))\n",
    "    for var in var_list\n",
    "}"
   ]
  },
  {
   "cell_type": "markdown",
   "metadata": {},
   "source": [
    "### interpolate"
   ]
  },
  {
   "cell_type": "code",
   "execution_count": 25,
   "metadata": {},
   "outputs": [],
   "source": [
    "lev_itp = np.linspace(150, 1000, 18)\n",
    "\n",
    "data_itp = {\n",
    "    var: interp1d(lev[::-1], data_rs[var][::-1], axis=0)(lev_itp)\n",
    "    for var in var_list\n",
    "}"
   ]
  },
  {
   "cell_type": "markdown",
   "metadata": {},
   "source": [
    "## Apply PCA on data"
   ]
  },
  {
   "cell_type": "code",
   "execution_count": 26,
   "metadata": {},
   "outputs": [
    {
     "name": "stdout",
     "output_type": "stream",
     "text": [
      "dict_keys(['t', 'q1', 'qv'])\n"
     ]
    }
   ],
   "source": [
    "data_eof = {\n",
    "    var: normal_equation(eof, data_itp[var])\n",
    "    for var in var_list\n",
    "}\n",
    "\n",
    "pc1 = {\n",
    "    var: data_eof[var][0, :].reshape((ltime, llat, llon))\n",
    "    for var in var_list\n",
    "}\n",
    "\n",
    "pc2 = {\n",
    "    var: data_eof[var][1, :].reshape((ltime, llat, llon))\n",
    "    for var in var_list\n",
    "}\n",
    "\n",
    "print(pc1.keys())"
   ]
  },
  {
   "cell_type": "markdown",
   "metadata": {},
   "source": [
    "## save file"
   ]
  },
  {
   "cell_type": "code",
   "execution_count": 27,
   "metadata": {},
   "outputs": [
    {
     "data": {
      "text/plain": [
       "['/work/b11209013/2024_Research/MPAS/PC/NSC_PC.joblib']"
      ]
     },
     "execution_count": 27,
     "metadata": {},
     "output_type": "execute_result"
    }
   ],
   "source": [
    "output_dict = {\n",
    "    \"lon\": lon,\n",
    "    \"lat\": lat,\n",
    "    \"time\": time,\n",
    "    \"pc1\": pc1,\n",
    "    \"pc2\": pc2,\n",
    "}\n",
    "\n",
    "jl.dump(output_dict, f'/work/b11209013/2024_Research/MPAS/PC/{case}_PC.joblib')"
   ]
  },
  {
   "cell_type": "markdown",
   "metadata": {},
   "source": [
    "### "
   ]
  }
 ],
 "metadata": {
  "kernelspec": {
   "display_name": "Python 3",
   "language": "python",
   "name": "python3"
  },
  "language_info": {
   "codemirror_mode": {
    "name": "ipython",
    "version": 3
   },
   "file_extension": ".py",
   "mimetype": "text/x-python",
   "name": "python",
   "nbconvert_exporter": "python",
   "pygments_lexer": "ipython3",
   "version": "3.10.15"
  }
 },
 "nbformat": 4,
 "nbformat_minor": 2
}
